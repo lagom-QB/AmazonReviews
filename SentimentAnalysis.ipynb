{
 "cells": [
  {
   "cell_type": "code",
   "execution_count": 1,
   "metadata": {},
   "outputs": [
    {
     "name": "stderr",
     "output_type": "stream",
     "text": [
      "/Users/iffiness/.pyenv/versions/3.10.12/lib/python3.10/site-packages/tqdm/auto.py:21: TqdmWarning: IProgress not found. Please update jupyter and ipywidgets. See https://ipywidgets.readthedocs.io/en/stable/user_install.html\n",
      "  from .autonotebook import tqdm as notebook_tqdm\n"
     ]
    }
   ],
   "source": [
    "import pandas as pd\n",
    "import numpy as np\n",
    "\n",
    "import matplotlib.pyplot as plt\n",
    "import seaborn as sns\n",
    "\n",
    "from transformers import pipeline, AutoTokenizer # basic, autoTokinizer, DistilBertForSequenceClassifier, \n",
    "\n",
    "import plotly.graph_objects as go\n",
    "\n",
    "import streamlit as st\n",
    "\n",
    "import torch\n",
    "import fire\n",
    "\n",
    "import concurrent.futures\n",
    "from tqdm import tqdm\n",
    "\n",
    "import warnings\n",
    "warnings.filterwarnings('ignore')\n",
    "sns.set_style('darkgrid')"
   ]
  },
  {
   "cell_type": "code",
   "execution_count": 2,
   "metadata": {},
   "outputs": [],
   "source": [
    "!pip freeze > requirements.txt"
   ]
  },
  {
   "cell_type": "markdown",
   "metadata": {},
   "source": [
    "# Sentiment Analysis of Amazon Reviews\n",
    "<!-- precision and recall of 0.916 -->\n",
    "## Tools  \n",
    "- Python\n",
    "- Pytorch (_Deep Learning model_)\n",
    "- Seaborn (_statistical visualizations_)\n",
    "- NLTK (_Machine Learning and Text Analysis_)"
   ]
  },
  {
   "cell_type": "markdown",
   "metadata": {},
   "source": [
    "Now this looks cleaner and more manageable.  \n",
    "Now looking at the count of each rating."
   ]
  },
  {
   "cell_type": "code",
   "execution_count": 3,
   "metadata": {},
   "outputs": [],
   "source": [
    "from app_scripts.load_preprocess_data import load_data, preprocess_data, get_sentiment, plot_ratings\n",
    "\n",
    "data = load_data()\n",
    "# data = preprocess_data(data)\n",
    "data = get_sentiment(data)\n",
    "plot_ratings(data)\n"
   ]
  },
  {
   "cell_type": "code",
   "execution_count": null,
   "metadata": {},
   "outputs": [
    {
     "data": {
      "text/html": [
       "<div>\n",
       "<style scoped>\n",
       "    .dataframe tbody tr th:only-of-type {\n",
       "        vertical-align: middle;\n",
       "    }\n",
       "\n",
       "    .dataframe tbody tr th {\n",
       "        vertical-align: top;\n",
       "    }\n",
       "\n",
       "    .dataframe thead th {\n",
       "        text-align: right;\n",
       "    }\n",
       "</style>\n",
       "<table border=\"1\" class=\"dataframe\">\n",
       "  <thead>\n",
       "    <tr style=\"text-align: right;\">\n",
       "      <th></th>\n",
       "      <th>column_0</th>\n",
       "      <th>column_1</th>\n",
       "      <th>column_2</th>\n",
       "      <th>column_3</th>\n",
       "      <th>column_4</th>\n",
       "      <th>column_5</th>\n",
       "    </tr>\n",
       "  </thead>\n",
       "  <tbody>\n",
       "    <tr>\n",
       "      <th>0</th>\n",
       "      <td>4.0</td>\n",
       "      <td>Surprisingly delightful</td>\n",
       "      <td>This is a fast read filled with unexpected hum...</td>\n",
       "      <td>NaN</td>\n",
       "      <td>NaN</td>\n",
       "      <td>NaN</td>\n",
       "    </tr>\n",
       "    <tr>\n",
       "      <th>1</th>\n",
       "      <td>2.0</td>\n",
       "      <td>Works, but not as advertised</td>\n",
       "      <td>I bought one of these chargers..the instructio...</td>\n",
       "      <td>NaN</td>\n",
       "      <td>NaN</td>\n",
       "      <td>NaN</td>\n",
       "    </tr>\n",
       "    <tr>\n",
       "      <th>2</th>\n",
       "      <td>2.0</td>\n",
       "      <td>Oh dear</td>\n",
       "      <td>I was excited to find a book ostensibly about ...</td>\n",
       "      <td>NaN</td>\n",
       "      <td>NaN</td>\n",
       "      <td>NaN</td>\n",
       "    </tr>\n",
       "    <tr>\n",
       "      <th>3</th>\n",
       "      <td>2.0</td>\n",
       "      <td>Incorrect disc!</td>\n",
       "      <td>I am a big JVC fan, but I do not like this mod...</td>\n",
       "      <td>NaN</td>\n",
       "      <td>NaN</td>\n",
       "      <td>NaN</td>\n",
       "    </tr>\n",
       "    <tr>\n",
       "      <th>4</th>\n",
       "      <td>2.0</td>\n",
       "      <td>Incorrect Disc</td>\n",
       "      <td>I love the style of this, but after a couple y...</td>\n",
       "      <td>NaN</td>\n",
       "      <td>NaN</td>\n",
       "      <td>NaN</td>\n",
       "    </tr>\n",
       "  </tbody>\n",
       "</table>\n",
       "</div>"
      ],
      "text/plain": [
       "   column_0                      column_1  \\\n",
       "0       4.0       Surprisingly delightful   \n",
       "1       2.0  Works, but not as advertised   \n",
       "2       2.0                       Oh dear   \n",
       "3       2.0               Incorrect disc!   \n",
       "4       2.0                Incorrect Disc   \n",
       "\n",
       "                                            column_2  column_3 column_4  \\\n",
       "0  This is a fast read filled with unexpected hum...       NaN      NaN   \n",
       "1  I bought one of these chargers..the instructio...       NaN      NaN   \n",
       "2  I was excited to find a book ostensibly about ...       NaN      NaN   \n",
       "3  I am a big JVC fan, but I do not like this mod...       NaN      NaN   \n",
       "4  I love the style of this, but after a couple y...       NaN      NaN   \n",
       "\n",
       "  column_5  \n",
       "0      NaN  \n",
       "1      NaN  \n",
       "2      NaN  \n",
       "3      NaN  \n",
       "4      NaN  "
      ]
     },
     "metadata": {},
     "output_type": "display_data"
    }
   ],
   "source": [
    "# data1.sample(frac=.045).to_csv('assets/data.csv', index=False)\n",
    "# display(data1.sample(8))"
   ]
  },
  {
   "cell_type": "markdown",
   "metadata": {},
   "source": [
    "Seems like column_0 and column_3 are numeric columns while the others are text where either column_0 is populated or column_3 is.  \n",
    "So I don't think it is far-fetched to merge the columns such that:\n",
    "- column_0 and column_3 are a single column\n",
    "- column_1, column_2, column_4, column_5 are the text columns"
   ]
  },
  {
   "cell_type": "code",
   "execution_count": 7,
   "metadata": {},
   "outputs": [],
   "source": [
    "from app_scripts.model import huggingface_autoTokenizer, huggingFace_Distilbert\n",
    "\n",
    "data = data.sample(frac =.009).reset_index(drop=True)\n",
    "# data = data.sample(20).reset_index(drop=True)\n",
    "\n",
    "data = huggingface_autoTokenizer(data)\n",
    "data = huggingFace_Distilbert(data)\n",
    "data.shape, data.sample(4)\n"
   ]
  },
  {
   "cell_type": "markdown",
   "metadata": {},
   "source": [
    "### TODO:\n",
    "- Plot the ratings.\n",
    "   - For each sentence, find the main topic of the text as in what the complain is talking about. \n",
    "- Interactively show what each point is mainly about. A scatter plot would be perfect to individually pick each point.\n",
    "- Include a single value for a general rating for each single sentiment"
   ]
  },
  {
   "cell_type": "code",
   "execution_count": null,
   "metadata": {},
   "outputs": [],
   "source": [
    "display(data, data.shape)"
   ]
  },
  {
   "cell_type": "code",
   "execution_count": null,
   "metadata": {},
   "outputs": [],
   "source": [
    "from app_scripts.topic_modelling import get_topics, get_common_topics, plot_topic_repetitions, plot_topic_vs_ratings\n",
    "import pandas as pd\n",
    "\n",
    "data = get_topics(data)\n",
    "data = get_common_topics(data)\n",
    "\n",
    "plot_topic_repetitions(data)\n",
    "plot_topic_vs_ratings(data)\n"
   ]
  },
  {
   "cell_type": "code",
   "execution_count": null,
   "metadata": {},
   "outputs": [],
   "source": [
    "from app_scripts.topic_modelling import plot_interactive_ratings\n",
    "\n",
    "plot_interactive_ratings(data)\n",
    "\n",
    "data.sample(10)"
   ]
  },
  {
   "cell_type": "code",
   "execution_count": null,
   "metadata": {},
   "outputs": [],
   "source": [
    "# - Interactively show what each point is mainly about. A scatter plot would be perfect to individually pick each point.\n",
    "import plotly.graph_objects as go\n",
    "\n",
    "def plot_interactive_ratings(data):\n",
    "    max_ratings_by_topic = data[data.common_topics.isin(data.common_topics.value_counts()[data.common_topics.value_counts() > 10].index)].groupby('common_topics')['rating'].mean().reset_index()\n",
    "    \n",
    "    # Create a scatter plot\n",
    "    fig = go.Figure(data=go.Scatter(\n",
    "        x=max_ratings_by_topic['rating'],  # Use the ratings as x-values\n",
    "        y=max_ratings_by_topic['common_topics'],  # Use the common_topics as y-values\n",
    "        mode='markers',  # Set the mode to markers for a scatter plot\n",
    "        marker=dict(\n",
    "            color=max_ratings_by_topic['rating'],  # Color the markers based on the ratings\n",
    "            # colorscale='turbo',  # Choose a color scale\n",
    "            # colorbar=dict(title='Ratings'),  # Add a color bar with a title\n",
    "            size=10  # Set the marker size\n",
    "        )\n",
    "    ))\n",
    "    \n",
    "    # Customize the layout\n",
    "    fig.update_layout(\n",
    "        title='Common Topics and Average Ratings',  # Add a title\n",
    "        xaxis_title='Ratings',  # Label the x-axis\n",
    "        yaxis_title='Common Topics',  # Label the y-axis\n",
    "        font=dict(size=10),  # Set the font size\n",
    "        height=1000,  # Set the height of the plot\n",
    "    )\n",
    "\n",
    "    fig.update_yaxes(automargin=True)\n",
    "    \n",
    "    # Show the interactive scatter plot\n",
    "    fig.show()\n",
    "\n",
    "# plot_interactive_ratings(data)"
   ]
  },
  {
   "cell_type": "code",
   "execution_count": null,
   "metadata": {},
   "outputs": [],
   "source": []
  }
 ],
 "metadata": {
  "kernelspec": {
   "display_name": "Python 3",
   "language": "python",
   "name": "python3"
  },
  "language_info": {
   "codemirror_mode": {
    "name": "ipython",
    "version": 3
   },
   "file_extension": ".py",
   "mimetype": "text/x-python",
   "name": "python",
   "nbconvert_exporter": "python",
   "pygments_lexer": "ipython3",
   "version": "3.10.12"
  }
 },
 "nbformat": 4,
 "nbformat_minor": 2
}
