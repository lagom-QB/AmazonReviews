{
 "cells": [
  {
   "cell_type": "code",
   "execution_count": 1,
   "metadata": {},
   "outputs": [
    {
     "name": "stderr",
     "output_type": "stream",
     "text": [
      "/Users/iffiness/.pyenv/versions/3.10.12/lib/python3.10/site-packages/tqdm/auto.py:21: TqdmWarning: IProgress not found. Please update jupyter and ipywidgets. See https://ipywidgets.readthedocs.io/en/stable/user_install.html\n",
      "  from .autonotebook import tqdm as notebook_tqdm\n"
     ]
    }
   ],
   "source": [
    "import pandas as pd\n",
    "import numpy as np\n",
    "\n",
    "import matplotlib.pyplot as plt\n",
    "import seaborn as sns\n",
    "\n",
    "from transformers import pipeline, AutoTokenizer # basic, autoTokinizer, DistilBertForSequenceClassifier, \n",
    "\n",
    "import plotly.graph_objects as go\n",
    "\n",
    "import streamlit as st\n",
    "\n",
    "import torch\n",
    "import fire\n",
    "\n",
    "import concurrent.futures\n",
    "from tqdm import tqdm\n",
    "\n",
    "import warnings\n",
    "warnings.filterwarnings('ignore')\n",
    "sns.set_style('darkgrid')"
   ]
  },
  {
   "cell_type": "code",
   "execution_count": 2,
   "metadata": {},
   "outputs": [],
   "source": [
    "!pip freeze > requirements.txt"
   ]
  },
  {
   "cell_type": "markdown",
   "metadata": {},
   "source": [
    "# Sentiment Analysis of Amazon Reviews\n",
    "<!-- precision and recall of 0.916 -->\n",
    "## Tools  \n",
    "- Python\n",
    "- Pytorch (_Deep Learning model_)\n",
    "- Seaborn (_statistical visualizations_)\n",
    "- NLTK (_Machine Learning and Text Analysis_)"
   ]
  },
  {
   "cell_type": "markdown",
   "metadata": {},
   "source": [
    "Now this looks cleaner and more manageable.  \n",
    "Now looking at the count of each rating."
   ]
  },
  {
   "cell_type": "code",
   "execution_count": 3,
   "metadata": {},
   "outputs": [],
   "source": [
    "from app_scripts.load_preprocess_data import load_data, preprocess_data, get_sentiment, plot_ratings\n",
    "\n",
    "data = load_data()\n",
    "# data = preprocess_data(data)\n",
    "data = get_sentiment(data)\n",
    "# plot_ratings(data)\n"
   ]
  },
  {
   "cell_type": "code",
   "execution_count": 4,
   "metadata": {},
   "outputs": [],
   "source": [
    "# data1.sample(frac=.045).to_csv('assets/data.csv', index=False)\n",
    "# display(data1.sample(8))"
   ]
  },
  {
   "cell_type": "markdown",
   "metadata": {},
   "source": [
    "Seems like column_0 and column_3 are numeric columns while the others are text where either column_0 is populated or column_3 is.  \n",
    "So I don't think it is far-fetched to merge the columns such that:\n",
    "- column_0 and column_3 are a single column\n",
    "- column_1, column_2, column_4, column_5 are the text columns"
   ]
  },
  {
   "cell_type": "code",
   "execution_count": 5,
   "metadata": {},
   "outputs": [
    {
     "data": {
      "text/plain": [
       "((1183, 4),\n",
       "                                              sentiment  rating  \\\n",
       " 942    Kinda Pointless, Eric Idle makes it all wort...     3.0   \n",
       " 450    It's alright This product works ok for us bu...     3.0   \n",
       " 345    Dry Kill Logic This release, although not en...     3.0   \n",
       " 653    less than pleased didn't really care for thi...     2.0   \n",
       " \n",
       "     huggingface_autoTokenizer huggingFace_Distilbert  \n",
       " 942                  Negative                2 stars  \n",
       " 450                   Neutral                3 stars  \n",
       " 345                  Negative                5 stars  \n",
       " 653                  Negative                2 stars  )"
      ]
     },
     "execution_count": 5,
     "metadata": {},
     "output_type": "execute_result"
    }
   ],
   "source": [
    "from app_scripts.model import huggingface_autoTokenizer, huggingFace_Distilbert\n",
    "\n",
    "data = data.sample(frac =.009).reset_index(drop=True)\n",
    "# data = data.sample(20).reset_index(drop=True)\n",
    "\n",
    "data = huggingface_autoTokenizer(data)\n",
    "data = huggingFace_Distilbert(data)\n",
    "data.shape, data.sample(4)\n"
   ]
  },
  {
   "cell_type": "markdown",
   "metadata": {},
   "source": [
    "### TODO:\n",
    "- Plot the ratings.\n",
    "   - For each sentence, find the main topic of the text as in what the complain is talking about. \n",
    "- Interactively show what each point is mainly about. A scatter plot would be perfect to individually pick each point.\n",
    "- Include a single value for a general rating for each single sentiment"
   ]
  },
  {
   "cell_type": "code",
   "execution_count": 6,
   "metadata": {},
   "outputs": [
    {
     "data": {
      "text/html": [
       "<div>\n",
       "<style scoped>\n",
       "    .dataframe tbody tr th:only-of-type {\n",
       "        vertical-align: middle;\n",
       "    }\n",
       "\n",
       "    .dataframe tbody tr th {\n",
       "        vertical-align: top;\n",
       "    }\n",
       "\n",
       "    .dataframe thead th {\n",
       "        text-align: right;\n",
       "    }\n",
       "</style>\n",
       "<table border=\"1\" class=\"dataframe\">\n",
       "  <thead>\n",
       "    <tr style=\"text-align: right;\">\n",
       "      <th></th>\n",
       "      <th>sentiment</th>\n",
       "      <th>rating</th>\n",
       "      <th>huggingface_autoTokenizer</th>\n",
       "      <th>huggingFace_Distilbert</th>\n",
       "    </tr>\n",
       "  </thead>\n",
       "  <tbody>\n",
       "    <tr>\n",
       "      <th>0</th>\n",
       "      <td>This book made me laugh out loud! I enjoyed ...</td>\n",
       "      <td>4.0</td>\n",
       "      <td>Neutral</td>\n",
       "      <td>5 stars</td>\n",
       "    </tr>\n",
       "    <tr>\n",
       "      <th>1</th>\n",
       "      <td>Smith is here to stay... Smith does a wonder...</td>\n",
       "      <td>4.0</td>\n",
       "      <td>Negative</td>\n",
       "      <td>4 stars</td>\n",
       "    </tr>\n",
       "    <tr>\n",
       "      <th>2</th>\n",
       "      <td>Beautiful, but not so useful These are really ...</td>\n",
       "      <td>2.0</td>\n",
       "      <td>Positive</td>\n",
       "      <td>3 stars</td>\n",
       "    </tr>\n",
       "    <tr>\n",
       "      <th>3</th>\n",
       "      <td>Another summer blockbuster- just not excelle...</td>\n",
       "      <td>4.0</td>\n",
       "      <td>Neutral</td>\n",
       "      <td>4 stars</td>\n",
       "    </tr>\n",
       "    <tr>\n",
       "      <th>4</th>\n",
       "      <td>Not at all helpful This book is very random ...</td>\n",
       "      <td>1.0</td>\n",
       "      <td>Positive</td>\n",
       "      <td>2 stars</td>\n",
       "    </tr>\n",
       "    <tr>\n",
       "      <th>...</th>\n",
       "      <td>...</td>\n",
       "      <td>...</td>\n",
       "      <td>...</td>\n",
       "      <td>...</td>\n",
       "    </tr>\n",
       "    <tr>\n",
       "      <th>1178</th>\n",
       "      <td>Review Under Forced Servitude to an English ...</td>\n",
       "      <td>4.0</td>\n",
       "      <td>Positive</td>\n",
       "      <td>2 stars</td>\n",
       "    </tr>\n",
       "    <tr>\n",
       "      <th>1179</th>\n",
       "      <td>Good if the price were $20 - $40 It is not r...</td>\n",
       "      <td>2.0</td>\n",
       "      <td>Negative</td>\n",
       "      <td>2 stars</td>\n",
       "    </tr>\n",
       "    <tr>\n",
       "      <th>1180</th>\n",
       "      <td>Great product, bad workmanship &amp; design We h...</td>\n",
       "      <td>2.0</td>\n",
       "      <td>Neutral</td>\n",
       "      <td>4 stars</td>\n",
       "    </tr>\n",
       "    <tr>\n",
       "      <th>1181</th>\n",
       "      <td>A Good Guide to Habitat Restoration, with ca...</td>\n",
       "      <td>4.0</td>\n",
       "      <td>Neutral</td>\n",
       "      <td>3 stars</td>\n",
       "    </tr>\n",
       "    <tr>\n",
       "      <th>1182</th>\n",
       "      <td>Second Class Citizen A story of an African A...</td>\n",
       "      <td>3.0</td>\n",
       "      <td>Neutral</td>\n",
       "      <td>1 star</td>\n",
       "    </tr>\n",
       "  </tbody>\n",
       "</table>\n",
       "<p>1183 rows × 4 columns</p>\n",
       "</div>"
      ],
      "text/plain": [
       "                                              sentiment  rating  \\\n",
       "0       This book made me laugh out loud! I enjoyed ...     4.0   \n",
       "1       Smith is here to stay... Smith does a wonder...     4.0   \n",
       "2     Beautiful, but not so useful These are really ...     2.0   \n",
       "3       Another summer blockbuster- just not excelle...     4.0   \n",
       "4       Not at all helpful This book is very random ...     1.0   \n",
       "...                                                 ...     ...   \n",
       "1178    Review Under Forced Servitude to an English ...     4.0   \n",
       "1179    Good if the price were $20 - $40 It is not r...     2.0   \n",
       "1180    Great product, bad workmanship & design We h...     2.0   \n",
       "1181    A Good Guide to Habitat Restoration, with ca...     4.0   \n",
       "1182    Second Class Citizen A story of an African A...     3.0   \n",
       "\n",
       "     huggingface_autoTokenizer huggingFace_Distilbert  \n",
       "0                      Neutral                5 stars  \n",
       "1                     Negative                4 stars  \n",
       "2                     Positive                3 stars  \n",
       "3                      Neutral                4 stars  \n",
       "4                     Positive                2 stars  \n",
       "...                        ...                    ...  \n",
       "1178                  Positive                2 stars  \n",
       "1179                  Negative                2 stars  \n",
       "1180                   Neutral                4 stars  \n",
       "1181                   Neutral                3 stars  \n",
       "1182                   Neutral                 1 star  \n",
       "\n",
       "[1183 rows x 4 columns]"
      ]
     },
     "metadata": {},
     "output_type": "display_data"
    },
    {
     "data": {
      "text/plain": [
       "(1183, 4)"
      ]
     },
     "metadata": {},
     "output_type": "display_data"
    }
   ],
   "source": [
    "display(data, data.shape)"
   ]
  },
  {
   "cell_type": "code",
   "execution_count": 7,
   "metadata": {},
   "outputs": [
    {
     "data": {
      "text/html": [
       "<div>\n",
       "<style scoped>\n",
       "    .dataframe tbody tr th:only-of-type {\n",
       "        vertical-align: middle;\n",
       "    }\n",
       "\n",
       "    .dataframe tbody tr th {\n",
       "        vertical-align: top;\n",
       "    }\n",
       "\n",
       "    .dataframe thead th {\n",
       "        text-align: right;\n",
       "    }\n",
       "</style>\n",
       "<table border=\"1\" class=\"dataframe\">\n",
       "  <thead>\n",
       "    <tr style=\"text-align: right;\">\n",
       "      <th></th>\n",
       "      <th>sentiment</th>\n",
       "      <th>rating</th>\n",
       "      <th>huggingface_autoTokenizer</th>\n",
       "      <th>huggingFace_Distilbert</th>\n",
       "      <th>top_words_lda</th>\n",
       "      <th>top_words_nmf</th>\n",
       "      <th>top_words_svd</th>\n",
       "      <th>common_topics</th>\n",
       "    </tr>\n",
       "  </thead>\n",
       "  <tbody>\n",
       "    <tr>\n",
       "      <th>0</th>\n",
       "      <td>This book made me laugh out loud! I enjoyed ...</td>\n",
       "      <td>4.0</td>\n",
       "      <td>Neutral</td>\n",
       "      <td>5 stars</td>\n",
       "      <td>zany, times, beginning</td>\n",
       "      <td>book, loud, presented</td>\n",
       "      <td>book, loud, accepting</td>\n",
       "      <td>book</td>\n",
       "    </tr>\n",
       "    <tr>\n",
       "      <th>1</th>\n",
       "      <td>Smith is here to stay... Smith does a wonder...</td>\n",
       "      <td>4.0</td>\n",
       "      <td>Negative</td>\n",
       "      <td>4 stars</td>\n",
       "      <td>wonderful, wonder, hero</td>\n",
       "      <td>smith, bring, acid</td>\n",
       "      <td>smith, wonderful, job</td>\n",
       "      <td>smith</td>\n",
       "    </tr>\n",
       "    <tr>\n",
       "      <th>2</th>\n",
       "      <td>Beautiful, but not so useful These are really ...</td>\n",
       "      <td>2.0</td>\n",
       "      <td>Positive</td>\n",
       "      <td>3 stars</td>\n",
       "      <td>weight, useful, better</td>\n",
       "      <td>set, rate, beautiful</td>\n",
       "      <td>set, tongs, bought</td>\n",
       "      <td>set</td>\n",
       "    </tr>\n",
       "    <tr>\n",
       "      <th>3</th>\n",
       "      <td>Another summer blockbuster- just not excelle...</td>\n",
       "      <td>4.0</td>\n",
       "      <td>Neutral</td>\n",
       "      <td>4 stars</td>\n",
       "      <td>wants, knight, adventure</td>\n",
       "      <td>film, just, fun</td>\n",
       "      <td>film, just, fun</td>\n",
       "      <td>film</td>\n",
       "    </tr>\n",
       "    <tr>\n",
       "      <th>4</th>\n",
       "      <td>Not at all helpful This book is very random ...</td>\n",
       "      <td>1.0</td>\n",
       "      <td>Positive</td>\n",
       "      <td>2 stars</td>\n",
       "      <td>writing, paste, worst</td>\n",
       "      <td>lesson, won, plans</td>\n",
       "      <td>lesson, won, plans</td>\n",
       "      <td>lesson</td>\n",
       "    </tr>\n",
       "    <tr>\n",
       "      <th>...</th>\n",
       "      <td>...</td>\n",
       "      <td>...</td>\n",
       "      <td>...</td>\n",
       "      <td>...</td>\n",
       "      <td>...</td>\n",
       "      <td>...</td>\n",
       "      <td>...</td>\n",
       "      <td>...</td>\n",
       "    </tr>\n",
       "    <tr>\n",
       "      <th>1178</th>\n",
       "      <td>Review Under Forced Servitude to an English ...</td>\n",
       "      <td>4.0</td>\n",
       "      <td>Positive</td>\n",
       "      <td>2 stars</td>\n",
       "      <td>sub, doesn, group</td>\n",
       "      <td>nirvana, cd, difficult</td>\n",
       "      <td>difficult, cd, nirvana</td>\n",
       "      <td>nirvana</td>\n",
       "    </tr>\n",
       "    <tr>\n",
       "      <th>1179</th>\n",
       "      <td>Good if the price were $20 - $40 It is not r...</td>\n",
       "      <td>2.0</td>\n",
       "      <td>Negative</td>\n",
       "      <td>2 stars</td>\n",
       "      <td>works, just, 90</td>\n",
       "      <td>unit, 40, price</td>\n",
       "      <td>unit, good, price</td>\n",
       "      <td>unit</td>\n",
       "    </tr>\n",
       "    <tr>\n",
       "      <th>1180</th>\n",
       "      <td>Great product, bad workmanship &amp; design We h...</td>\n",
       "      <td>2.0</td>\n",
       "      <td>Neutral</td>\n",
       "      <td>4 stars</td>\n",
       "      <td>year, workmanship, hold</td>\n",
       "      <td>product, 40, ball</td>\n",
       "      <td>product, ball, 40</td>\n",
       "      <td>product</td>\n",
       "    </tr>\n",
       "    <tr>\n",
       "      <th>1181</th>\n",
       "      <td>A Good Guide to Habitat Restoration, with ca...</td>\n",
       "      <td>4.0</td>\n",
       "      <td>Neutral</td>\n",
       "      <td>3 stars</td>\n",
       "      <td>worked, new, work_</td>\n",
       "      <td>restoration, guide, book</td>\n",
       "      <td>restoration, book, guide</td>\n",
       "      <td>restoration</td>\n",
       "    </tr>\n",
       "    <tr>\n",
       "      <th>1182</th>\n",
       "      <td>Second Class Citizen A story of an African A...</td>\n",
       "      <td>3.0</td>\n",
       "      <td>Neutral</td>\n",
       "      <td>1 star</td>\n",
       "      <td>guilty, horrible, acceptance</td>\n",
       "      <td>book, enjoy, reading</td>\n",
       "      <td>book, women, reading</td>\n",
       "      <td>book</td>\n",
       "    </tr>\n",
       "  </tbody>\n",
       "</table>\n",
       "<p>1183 rows × 8 columns</p>\n",
       "</div>"
      ],
      "text/plain": [
       "                                              sentiment  rating  \\\n",
       "0       This book made me laugh out loud! I enjoyed ...     4.0   \n",
       "1       Smith is here to stay... Smith does a wonder...     4.0   \n",
       "2     Beautiful, but not so useful These are really ...     2.0   \n",
       "3       Another summer blockbuster- just not excelle...     4.0   \n",
       "4       Not at all helpful This book is very random ...     1.0   \n",
       "...                                                 ...     ...   \n",
       "1178    Review Under Forced Servitude to an English ...     4.0   \n",
       "1179    Good if the price were $20 - $40 It is not r...     2.0   \n",
       "1180    Great product, bad workmanship & design We h...     2.0   \n",
       "1181    A Good Guide to Habitat Restoration, with ca...     4.0   \n",
       "1182    Second Class Citizen A story of an African A...     3.0   \n",
       "\n",
       "     huggingface_autoTokenizer huggingFace_Distilbert  \\\n",
       "0                      Neutral                5 stars   \n",
       "1                     Negative                4 stars   \n",
       "2                     Positive                3 stars   \n",
       "3                      Neutral                4 stars   \n",
       "4                     Positive                2 stars   \n",
       "...                        ...                    ...   \n",
       "1178                  Positive                2 stars   \n",
       "1179                  Negative                2 stars   \n",
       "1180                   Neutral                4 stars   \n",
       "1181                   Neutral                3 stars   \n",
       "1182                   Neutral                 1 star   \n",
       "\n",
       "                     top_words_lda             top_words_nmf  \\\n",
       "0           zany, times, beginning     book, loud, presented   \n",
       "1          wonderful, wonder, hero        smith, bring, acid   \n",
       "2           weight, useful, better      set, rate, beautiful   \n",
       "3         wants, knight, adventure           film, just, fun   \n",
       "4            writing, paste, worst        lesson, won, plans   \n",
       "...                            ...                       ...   \n",
       "1178             sub, doesn, group    nirvana, cd, difficult   \n",
       "1179               works, just, 90           unit, 40, price   \n",
       "1180       year, workmanship, hold         product, 40, ball   \n",
       "1181            worked, new, work_  restoration, guide, book   \n",
       "1182  guilty, horrible, acceptance      book, enjoy, reading   \n",
       "\n",
       "                 top_words_svd common_topics  \n",
       "0        book, loud, accepting          book  \n",
       "1        smith, wonderful, job         smith  \n",
       "2           set, tongs, bought           set  \n",
       "3              film, just, fun          film  \n",
       "4           lesson, won, plans        lesson  \n",
       "...                        ...           ...  \n",
       "1178    difficult, cd, nirvana       nirvana  \n",
       "1179         unit, good, price          unit  \n",
       "1180         product, ball, 40       product  \n",
       "1181  restoration, book, guide   restoration  \n",
       "1182      book, women, reading          book  \n",
       "\n",
       "[1183 rows x 8 columns]"
      ]
     },
     "metadata": {},
     "output_type": "display_data"
    }
   ],
   "source": [
    "from app_scripts.topic_modelling import get_topics, get_common_topics, plot_topic_repetitions, plot_topic_vs_ratings\n",
    "import pandas as pd\n",
    "\n",
    "data = get_topics(data)\n",
    "data = get_common_topics(data)\n",
    "display(data)\n"
   ]
  },
  {
   "cell_type": "code",
   "execution_count": 103,
   "metadata": {},
   "outputs": [
    {
     "data": {
      "image/png": "[encoded data removed]",
      "text/plain": [
       "<Figure size 1000x1400 with 1 Axes>"
      ]
     },
     "metadata": {},
     "output_type": "display_data"
    }
   ],
   "source": [
    "def plot_topic_repetition(data):\n",
    "    sns.set_theme(style='whitegrid')\n",
    "    thresh_value = np.unique(data.common_topics.value_counts().values)[3]\n",
    "    value_counts = data['common_topics'].value_counts()\n",
    "    # value_counts to dataframe with columns 'common_topics' and 'occurrences'\n",
    "    value_counts = value_counts.reset_index()\n",
    "    value_counts.columns = ['common_topics', 'occurrences']\n",
    "\n",
    "    # if value_counts.occurrences.max() > 300:\n",
    "    #     thresh_value = value_counts.occurrences.max() * 0.1\n",
    "    # else:\n",
    "    #     thresh_value = value_counts.occurrences.max() * 0.01\n",
    "        \n",
    "    common_topics = data[data['common_topics'].isin(value_counts[value_counts['occurrences'] > thresh_value/2]['common_topics'])]\n",
    "\n",
    "    topic_counts = common_topics['common_topics'].value_counts().reset_index()\n",
    "    topic_counts.columns = ['common_topics', 'occurrences']\n",
    "\n",
    "    plt.figure(figsize=(10, 14))\n",
    "    sns.scatterplot(data=topic_counts,\n",
    "                    x='occurrences',\n",
    "                    y='common_topics',\n",
    "                    size='occurrences',\n",
    "                    sizes=(50, 500),\n",
    "                    alpha=0.7,\n",
    "                    edgecolor='white',\n",
    "                    linewidth=1)\n",
    "\n",
    "    plt.title('Common Topics in Reviews', fontsize=20)\n",
    "    plt.xlabel('Number of Occurrences', fontsize=14)\n",
    "    plt.ylabel('Common Topics', fontsize=14)\n",
    "    plt.yticks(fontsize=8, fontweight='light', color='gray')\n",
    "    plt.xticks(fontsize=8, fontweight='light', color='gray')\n",
    "\n",
    "    # plt.grid(False)\n",
    "    sns.despine(left=False, bottom=False)\n",
    "    plt.grid(axis='x', visible=False)\n",
    "    plt.grid(axis='y', alpha=0.3, color='gray', linestyle='--')\n",
    "\n",
    "    #adjust ytick spacing\n",
    "    # plt.gca().yaxis.set_major_locator(plt.MultipleLocator(1))\n",
    "\n",
    "    plt.show()\n",
    "    \n",
    "plot_topic_repetition(data)\n"
   ]
  },
  {
   "cell_type": "code",
   "execution_count": 100,
   "metadata": {},
   "outputs": [
    {
     "data": {
      "image/png": "[encoded data removed]",
      "text/plain": [
       "<Figure size 800x2000 with 1 Axes>"
      ]
     },
     "metadata": {},
     "output_type": "display_data"
    }
   ],
   "source": [
    "\n",
    "def plot_topic_vs_rating(data):\n",
    "    thresh_value = np.unique(data.common_topics.value_counts().values)[3]\n",
    "    max_ratings_by_topic = data[data.common_topics.isin(data.common_topics.value_counts()[data.common_topics.value_counts() > thresh_value/2].index)].groupby('common_topics')['rating'].mean().reset_index()\n",
    "\n",
    "    # display(max_ratings_by_topic)\n",
    "\n",
    "    plt.figure(figsize=(8, 20))\n",
    "    sns.scatterplot(x='rating',\n",
    "                    y='common_topics',\n",
    "                    palette='Set1',\n",
    "                    alpha=0.7,\n",
    "                    linewidth=0.2,\n",
    "                    edgecolor='white',\n",
    "                    sizes=(100, 500),\n",
    "                    legend=False,\n",
    "                    data=max_ratings_by_topic)\n",
    "\n",
    "    # plt.grid(False)\n",
    "    sns.despine(left=False, bottom=False)\n",
    "    plt.grid(axis='x', visible=False)\n",
    "    plt.grid(axis='y', alpha=0.3, color='gray', linestyle='--')\n",
    "\n",
    "    plt.title('Common Topics and Ratings', fontsize=18)\n",
    "    plt.xlabel('Ratings', fontsize=14)\n",
    "    plt.ylabel('Common Topics', fontsize=14)\n",
    "    plt.xticks(fontsize=8)\n",
    "    plt.yticks(fontsize=8)\n",
    "    plt.xlim(0, 6)\n",
    "    plt.gca().set_yticklabels([''] + list(max_ratings_by_topic['common_topics']))\n",
    "\n",
    "    plt.show()\n",
    "    \n",
    "plot_topic_vs_rating(data)\n"
   ]
  },
  {
   "cell_type": "code",
   "execution_count": 10,
   "metadata": {},
   "outputs": [
    {
     "ename": "SyntaxError",
     "evalue": "invalid syntax (2448822055.py, line 1)",
     "output_type": "error",
     "traceback": [
      "\u001b[0;36m  Cell \u001b[0;32mIn[10], line 1\u001b[0;36m\u001b[0m\n\u001b[0;31m    print(..)\u001b[0m\n\u001b[0m          ^\u001b[0m\n\u001b[0;31mSyntaxError\u001b[0m\u001b[0;31m:\u001b[0m invalid syntax\n"
     ]
    }
   ],
   "source": [
    "print(..)"
   ]
  },
  {
   "cell_type": "code",
   "execution_count": 94,
   "metadata": {},
   "outputs": [
    {
     "data": {
      "application/vnd.plotly.v1+json": {
       "config": {
        "plotlyServerURL": "https://plot.ly"
       },
       "data": [
        {
         "marker": {
          "color": [
           4.090909090909091,
           2.9,
           2.8181818181818183,
           2.6363636363636362,
           2.8181818181818183,
           2.8421052631578947,
           3.5217391304347827,
           2.5833333333333335,
           3,
           2.923076923076923,
           2.3076923076923075
          ],
          "size": 10
         },
         "mode": "markers",
         "type": "scatter",
         "x": [
          4.090909090909091,
          2.9,
          2.8181818181818183,
          2.6363636363636362,
          2.8181818181818183,
          2.8421052631578947,
          3.5217391304347827,
          2.5833333333333335,
          3,
          2.923076923076923,
          2.3076923076923075
         ],
         "y": [
          "album",
          "book",
          "cd",
          "dvd",
          "film",
          "good",
          "great",
          "just",
          "like",
          "movie",
          "product"
         ]
        }
       ],
       "layout": {
        "font": {
         "size": 10
        },
        "height": 1000,
        "template": {
         "data": {
          "candlestick": [
           {
            "decreasing": {
             "line": {
              "color": "#000033"
             }
            },
            "increasing": {
             "line": {
              "color": "#000032"
             }
            },
            "type": "candlestick"
           }
          ],
          "contour": [
           {
            "colorscale": [
             [
              0,
              "#000011"
             ],
             [
              0.1111111111111111,
              "#000012"
             ],
             [
              0.2222222222222222,
              "#000013"
             ],
             [
              0.3333333333333333,
              "#000014"
             ],
             [
              0.4444444444444444,
              "#000015"
             ],
             [
              0.5555555555555556,
              "#000016"
             ],
             [
              0.6666666666666666,
              "#000017"
             ],
             [
              0.7777777777777778,
              "#000018"
             ],
             [
              0.8888888888888888,
              "#000019"
             ],
             [
              1,
              "#000020"
             ]
            ],
            "type": "contour"
           }
          ],
          "contourcarpet": [
           {
            "colorscale": [
             [
              0,
              "#000011"
             ],
             [
              0.1111111111111111,
              "#000012"
             ],
             [
              0.2222222222222222,
              "#000013"
             ],
             [
              0.3333333333333333,
              "#000014"
             ],
             [
              0.4444444444444444,
              "#000015"
             ],
             [
              0.5555555555555556,
              "#000016"
             ],
             [
              0.6666666666666666,
              "#000017"
             ],
             [
              0.7777777777777778,
              "#000018"
             ],
             [
              0.8888888888888888,
              "#000019"
             ],
             [
              1,
              "#000020"
             ]
            ],
            "type": "contourcarpet"
           }
          ],
          "heatmap": [
           {
            "colorscale": [
             [
              0,
              "#000011"
             ],
             [
              0.1111111111111111,
              "#000012"
             ],
             [
              0.2222222222222222,
              "#000013"
             ],
             [
              0.3333333333333333,
              "#000014"
             ],
             [
              0.4444444444444444,
              "#000015"
             ],
             [
              0.5555555555555556,
              "#000016"
             ],
             [
              0.6666666666666666,
              "#000017"
             ],
             [
              0.7777777777777778,
              "#000018"
             ],
             [
              0.8888888888888888,
              "#000019"
             ],
             [
              1,
              "#000020"
             ]
            ],
            "type": "heatmap"
           }
          ],
          "histogram2d": [
           {
            "colorscale": [
             [
              0,
              "#000011"
             ],
             [
              0.1111111111111111,
              "#000012"
             ],
             [
              0.2222222222222222,
              "#000013"
             ],
             [
              0.3333333333333333,
              "#000014"
             ],
             [
              0.4444444444444444,
              "#000015"
             ],
             [
              0.5555555555555556,
              "#000016"
             ],
             [
              0.6666666666666666,
              "#000017"
             ],
             [
              0.7777777777777778,
              "#000018"
             ],
             [
              0.8888888888888888,
              "#000019"
             ],
             [
              1,
              "#000020"
             ]
            ],
            "type": "histogram2d"
           }
          ],
          "icicle": [
           {
            "textfont": {
             "color": "white"
            },
            "type": "icicle"
           }
          ],
          "sankey": [
           {
            "textfont": {
             "color": "#000036"
            },
            "type": "sankey"
           }
          ],
          "scatter": [
           {
            "marker": {
             "line": {
              "width": 0
             }
            },
            "type": "scatter"
           }
          ],
          "table": [
           {
            "cells": {
             "fill": {
              "color": "#000038"
             },
             "font": {
              "color": "#000037"
             },
             "line": {
              "color": "#000039"
             }
            },
            "header": {
             "fill": {
              "color": "#000040"
             },
             "font": {
              "color": "#000036"
             },
             "line": {
              "color": "#000039"
             }
            },
            "type": "table"
           }
          ],
          "waterfall": [
           {
            "connector": {
             "line": {
              "color": "#000036",
              "width": 2
             }
            },
            "decreasing": {
             "marker": {
              "color": "#000033"
             }
            },
            "increasing": {
             "marker": {
              "color": "#000032"
             }
            },
            "totals": {
             "marker": {
              "color": "#000034"
             }
            },
            "type": "waterfall"
           }
          ]
         },
         "layout": {
          "coloraxis": {
           "colorscale": [
            [
             0,
             "#000011"
            ],
            [
             0.1111111111111111,
             "#000012"
            ],
            [
             0.2222222222222222,
             "#000013"
            ],
            [
             0.3333333333333333,
             "#000014"
            ],
            [
             0.4444444444444444,
             "#000015"
            ],
            [
             0.5555555555555556,
             "#000016"
            ],
            [
             0.6666666666666666,
             "#000017"
            ],
            [
             0.7777777777777778,
             "#000018"
            ],
            [
             0.8888888888888888,
             "#000019"
            ],
            [
             1,
             "#000020"
            ]
           ]
          },
          "colorscale": {
           "diverging": [
            [
             0,
             "#000021"
            ],
            [
             0.1,
             "#000022"
            ],
            [
             0.2,
             "#000023"
            ],
            [
             0.3,
             "#000024"
            ],
            [
             0.4,
             "#000025"
            ],
            [
             0.5,
             "#000026"
            ],
            [
             0.6,
             "#000027"
            ],
            [
             0.7,
             "#000028"
            ],
            [
             0.8,
             "#000029"
            ],
            [
             0.9,
             "#000030"
            ],
            [
             1,
             "#000031"
            ]
           ],
           "sequential": [
            [
             0,
             "#000011"
            ],
            [
             0.1111111111111111,
             "#000012"
            ],
            [
             0.2222222222222222,
             "#000013"
            ],
            [
             0.3333333333333333,
             "#000014"
            ],
            [
             0.4444444444444444,
             "#000015"
            ],
            [
             0.5555555555555556,
             "#000016"
            ],
            [
             0.6666666666666666,
             "#000017"
            ],
            [
             0.7777777777777778,
             "#000018"
            ],
            [
             0.8888888888888888,
             "#000019"
            ],
            [
             1,
             "#000020"
            ]
           ],
           "sequentialminus": [
            [
             0,
             "#000011"
            ],
            [
             0.1111111111111111,
             "#000012"
            ],
            [
             0.2222222222222222,
             "#000013"
            ],
            [
             0.3333333333333333,
             "#000014"
            ],
            [
             0.4444444444444444,
             "#000015"
            ],
            [
             0.5555555555555556,
             "#000016"
            ],
            [
             0.6666666666666666,
             "#000017"
            ],
            [
             0.7777777777777778,
             "#000018"
            ],
            [
             0.8888888888888888,
             "#000019"
            ],
            [
             1,
             "#000020"
            ]
           ]
          },
          "colorway": [
           "#000001",
           "#000002",
           "#000003",
           "#000004",
           "#000005",
           "#000006",
           "#000007",
           "#000008",
           "#000009",
           "#000010"
          ]
         }
        },
        "title": {
         "text": "Common Topics and Average Ratings"
        },
        "xaxis": {
         "title": {
          "text": "Ratings"
         }
        },
        "yaxis": {
         "automargin": true,
         "title": {
          "text": "Common Topics"
         }
        }
       }
      }
     },
     "metadata": {},
     "output_type": "display_data"
    },
    {
     "data": {
      "text/html": [
       "<div>\n",
       "<style scoped>\n",
       "    .dataframe tbody tr th:only-of-type {\n",
       "        vertical-align: middle;\n",
       "    }\n",
       "\n",
       "    .dataframe tbody tr th {\n",
       "        vertical-align: top;\n",
       "    }\n",
       "\n",
       "    .dataframe thead th {\n",
       "        text-align: right;\n",
       "    }\n",
       "</style>\n",
       "<table border=\"1\" class=\"dataframe\">\n",
       "  <thead>\n",
       "    <tr style=\"text-align: right;\">\n",
       "      <th></th>\n",
       "      <th>sentiment</th>\n",
       "      <th>rating</th>\n",
       "      <th>huggingface_autoTokenizer</th>\n",
       "      <th>huggingFace_Distilbert</th>\n",
       "      <th>top_words_lda</th>\n",
       "      <th>top_words_nmf</th>\n",
       "      <th>top_words_svd</th>\n",
       "      <th>common_topics</th>\n",
       "    </tr>\n",
       "  </thead>\n",
       "  <tbody>\n",
       "    <tr>\n",
       "      <th>535</th>\n",
       "      <td>OH YEAH!! Love this box set. I watch it ALL ...</td>\n",
       "      <td>5.0</td>\n",
       "      <td>Positive</td>\n",
       "      <td>5 stars</td>\n",
       "      <td>yeah, watch, def</td>\n",
       "      <td>love, set, fast</td>\n",
       "      <td>love, set, box</td>\n",
       "      <td>love</td>\n",
       "    </tr>\n",
       "    <tr>\n",
       "      <th>73</th>\n",
       "      <td>Good Phone I needed a phone without an answer ...</td>\n",
       "      <td>3.0</td>\n",
       "      <td>Negative</td>\n",
       "      <td>4 stars</td>\n",
       "      <td>voice, damaged, handset</td>\n",
       "      <td>good, phone, amazon</td>\n",
       "      <td>phone, good, amazon</td>\n",
       "      <td>good</td>\n",
       "    </tr>\n",
       "    <tr>\n",
       "      <th>508</th>\n",
       "      <td>Terrible! I'll sum it up quickly. Terrible s...</td>\n",
       "      <td>1.0</td>\n",
       "      <td>Positive</td>\n",
       "      <td>1 star</td>\n",
       "      <td>working, work, case</td>\n",
       "      <td>terrible, month, did</td>\n",
       "      <td>terrible, month, apart</td>\n",
       "      <td>terrible</td>\n",
       "    </tr>\n",
       "    <tr>\n",
       "      <th>797</th>\n",
       "      <td>Not what I thought it would be. As a fan of ...</td>\n",
       "      <td>1.0</td>\n",
       "      <td>Negative</td>\n",
       "      <td>2 stars</td>\n",
       "      <td>location, freedom, major</td>\n",
       "      <td>splinter, cell, thought</td>\n",
       "      <td>thought, cell, splinter</td>\n",
       "      <td>splinter</td>\n",
       "    </tr>\n",
       "    <tr>\n",
       "      <th>1112</th>\n",
       "      <td>Lots of pretty pictures not worth reading, b...</td>\n",
       "      <td>2.0</td>\n",
       "      <td>Positive</td>\n",
       "      <td>4 stars</td>\n",
       "      <td>pictures, worth, cool</td>\n",
       "      <td>pictures, cool, worth</td>\n",
       "      <td>pictures, worth, cool</td>\n",
       "      <td>pictures</td>\n",
       "    </tr>\n",
       "    <tr>\n",
       "      <th>106</th>\n",
       "      <td>It just up and died! DIED! This was a weddin...</td>\n",
       "      <td>1.0</td>\n",
       "      <td>Negative</td>\n",
       "      <td>1 star</td>\n",
       "      <td>maker, going, let</td>\n",
       "      <td>waffles, just, years</td>\n",
       "      <td>years, just, waffles</td>\n",
       "      <td>waffles</td>\n",
       "    </tr>\n",
       "    <tr>\n",
       "      <th>544</th>\n",
       "      <td>Relatively Poor I bought this a year ago for...</td>\n",
       "      <td>2.0</td>\n",
       "      <td>Neutral</td>\n",
       "      <td>3 stars</td>\n",
       "      <td>new, convenient, luck</td>\n",
       "      <td>timer, year, second</td>\n",
       "      <td>year, second, batteries</td>\n",
       "      <td>timer</td>\n",
       "    </tr>\n",
       "    <tr>\n",
       "      <th>881</th>\n",
       "      <td>Great Item, but noisy... This is my second t...</td>\n",
       "      <td>3.0</td>\n",
       "      <td>Positive</td>\n",
       "      <td>4 stars</td>\n",
       "      <td>anna, easy, does</td>\n",
       "      <td>really, noisy, toaster</td>\n",
       "      <td>noisy, really, second</td>\n",
       "      <td>really</td>\n",
       "    </tr>\n",
       "    <tr>\n",
       "      <th>406</th>\n",
       "      <td>review This is an excellent rendition of the...</td>\n",
       "      <td>5.0</td>\n",
       "      <td>Negative</td>\n",
       "      <td>5 stars</td>\n",
       "      <td>vibrant, version, tale</td>\n",
       "      <td>classic, enjoy, pollyanna</td>\n",
       "      <td>vibrant, version, tale</td>\n",
       "      <td>classic</td>\n",
       "    </tr>\n",
       "    <tr>\n",
       "      <th>1042</th>\n",
       "      <td>broke immediately my housekeeper got this in t...</td>\n",
       "      <td>2.0</td>\n",
       "      <td>Negative</td>\n",
       "      <td>1 star</td>\n",
       "      <td>went, week, strength</td>\n",
       "      <td>broke, immediately, got</td>\n",
       "      <td>immediately, broke, 18</td>\n",
       "      <td>broke</td>\n",
       "    </tr>\n",
       "  </tbody>\n",
       "</table>\n",
       "</div>"
      ],
      "text/plain": [
       "                                              sentiment  rating  \\\n",
       "535     OH YEAH!! Love this box set. I watch it ALL ...     5.0   \n",
       "73    Good Phone I needed a phone without an answer ...     3.0   \n",
       "508     Terrible! I'll sum it up quickly. Terrible s...     1.0   \n",
       "797     Not what I thought it would be. As a fan of ...     1.0   \n",
       "1112    Lots of pretty pictures not worth reading, b...     2.0   \n",
       "106     It just up and died! DIED! This was a weddin...     1.0   \n",
       "544     Relatively Poor I bought this a year ago for...     2.0   \n",
       "881     Great Item, but noisy... This is my second t...     3.0   \n",
       "406     review This is an excellent rendition of the...     5.0   \n",
       "1042  broke immediately my housekeeper got this in t...     2.0   \n",
       "\n",
       "     huggingface_autoTokenizer huggingFace_Distilbert  \\\n",
       "535                   Positive                5 stars   \n",
       "73                    Negative                4 stars   \n",
       "508                   Positive                 1 star   \n",
       "797                   Negative                2 stars   \n",
       "1112                  Positive                4 stars   \n",
       "106                   Negative                 1 star   \n",
       "544                    Neutral                3 stars   \n",
       "881                   Positive                4 stars   \n",
       "406                   Negative                5 stars   \n",
       "1042                  Negative                 1 star   \n",
       "\n",
       "                 top_words_lda              top_words_nmf  \\\n",
       "535           yeah, watch, def            love, set, fast   \n",
       "73     voice, damaged, handset        good, phone, amazon   \n",
       "508        working, work, case       terrible, month, did   \n",
       "797   location, freedom, major    splinter, cell, thought   \n",
       "1112     pictures, worth, cool      pictures, cool, worth   \n",
       "106          maker, going, let       waffles, just, years   \n",
       "544      new, convenient, luck        timer, year, second   \n",
       "881           anna, easy, does     really, noisy, toaster   \n",
       "406     vibrant, version, tale  classic, enjoy, pollyanna   \n",
       "1042      went, week, strength    broke, immediately, got   \n",
       "\n",
       "                top_words_svd common_topics  \n",
       "535            love, set, box          love  \n",
       "73        phone, good, amazon          good  \n",
       "508    terrible, month, apart      terrible  \n",
       "797   thought, cell, splinter      splinter  \n",
       "1112    pictures, worth, cool      pictures  \n",
       "106      years, just, waffles       waffles  \n",
       "544   year, second, batteries         timer  \n",
       "881     noisy, really, second        really  \n",
       "406    vibrant, version, tale       classic  \n",
       "1042   immediately, broke, 18         broke  "
      ]
     },
     "execution_count": 94,
     "metadata": {},
     "output_type": "execute_result"
    }
   ],
   "source": [
    "from app_scripts.topic_modelling import plot_interactive_ratings\n",
    "\n",
    "plot_interactive_ratings(data)\n",
    "\n",
    "data.sample(10)"
   ]
  },
  {
   "cell_type": "code",
   "execution_count": 97,
   "metadata": {},
   "outputs": [
    {
     "data": {
      "application/vnd.plotly.v1+json": {
       "config": {
        "plotlyServerURL": "https://plot.ly"
       },
       "data": [
        {
         "marker": {
          "color": [
           3.3333333333333335,
           4.090909090909091,
           2.5,
           2.3333333333333335,
           2.8,
           4.571428571428571,
           1.5,
           2.9,
           2.3333333333333335,
           4.333333333333333,
           1.75,
           2.8181818181818183,
           3.3333333333333335,
           2.3333333333333335,
           2,
           3.6666666666666665,
           3.2,
           2.6363636363636362,
           4.8,
           3.6666666666666665,
           2.8181818181818183,
           2.4,
           2.8421052631578947,
           3,
           3.5217391304347827,
           3,
           3,
           2.5833333333333335,
           2.3333333333333335,
           3,
           2.25,
           4.166666666666667,
           1.3333333333333333,
           2.923076923076923,
           3.3333333333333335,
           3.6666666666666665,
           3,
           3.3333333333333335,
           2.6666666666666665,
           1.6666666666666667,
           3,
           2.8,
           2.3333333333333335,
           2.3076923076923075,
           3.2857142857142856,
           4,
           2.7777777777777777,
           3,
           3.2,
           3,
           3,
           2.75,
           3.6,
           3.1666666666666665,
           3.75,
           2.3333333333333335,
           2.1666666666666665,
           3.1666666666666665,
           2,
           2.75,
           3,
           3.3333333333333335,
           2,
           1.75,
           2.75
          ],
          "size": 10
         },
         "mode": "markers",
         "type": "scatter",
         "x": [
          3.3333333333333335,
          4.090909090909091,
          2.5,
          2.3333333333333335,
          2.8,
          4.571428571428571,
          1.5,
          2.9,
          2.3333333333333335,
          4.333333333333333,
          1.75,
          2.8181818181818183,
          3.3333333333333335,
          2.3333333333333335,
          2,
          3.6666666666666665,
          3.2,
          2.6363636363636362,
          4.8,
          3.6666666666666665,
          2.8181818181818183,
          2.4,
          2.8421052631578947,
          3,
          3.5217391304347827,
          3,
          3,
          2.5833333333333335,
          2.3333333333333335,
          3,
          2.25,
          4.166666666666667,
          1.3333333333333333,
          2.923076923076923,
          3.3333333333333335,
          3.6666666666666665,
          3,
          3.3333333333333335,
          2.6666666666666665,
          1.6666666666666667,
          3,
          2.8,
          2.3333333333333335,
          2.3076923076923075,
          3.2857142857142856,
          4,
          2.7777777777777777,
          3,
          3.2,
          3,
          3,
          2.75,
          3.6,
          3.1666666666666665,
          3.75,
          2.3333333333333335,
          2.1666666666666665,
          3.1666666666666665,
          2,
          2.75,
          3,
          3.3333333333333335,
          2,
          1.75,
          2.75
         ],
         "y": [
          "air",
          "album",
          "amazon",
          "author",
          "bag",
          "best",
          "better",
          "book",
          "bought",
          "brilliant",
          "case",
          "cd",
          "characters",
          "didn",
          "does",
          "doesn",
          "don",
          "dvd",
          "easy",
          "ending",
          "film",
          "game",
          "good",
          "got",
          "great",
          "happy",
          "interesting",
          "just",
          "light",
          "like",
          "little",
          "love",
          "metal",
          "movie",
          "new",
          "nice",
          "night",
          "order",
          "phone",
          "predictable",
          "pretty",
          "price",
          "printer",
          "product",
          "quality",
          "read",
          "really",
          "red",
          "series",
          "set",
          "songs",
          "sound",
          "story",
          "think",
          "time",
          "tool",
          "unit",
          "use",
          "version",
          "volume",
          "want",
          "wanted",
          "wish",
          "work",
          "years"
         ]
        }
       ],
       "layout": {
        "font": {
         "size": 10
        },
        "height": 1000,
        "template": {
         "data": {
          "candlestick": [
           {
            "decreasing": {
             "line": {
              "color": "#000033"
             }
            },
            "increasing": {
             "line": {
              "color": "#000032"
             }
            },
            "type": "candlestick"
           }
          ],
          "contour": [
           {
            "colorscale": [
             [
              0,
              "#000011"
             ],
             [
              0.1111111111111111,
              "#000012"
             ],
             [
              0.2222222222222222,
              "#000013"
             ],
             [
              0.3333333333333333,
              "#000014"
             ],
             [
              0.4444444444444444,
              "#000015"
             ],
             [
              0.5555555555555556,
              "#000016"
             ],
             [
              0.6666666666666666,
              "#000017"
             ],
             [
              0.7777777777777778,
              "#000018"
             ],
             [
              0.8888888888888888,
              "#000019"
             ],
             [
              1,
              "#000020"
             ]
            ],
            "type": "contour"
           }
          ],
          "contourcarpet": [
           {
            "colorscale": [
             [
              0,
              "#000011"
             ],
             [
              0.1111111111111111,
              "#000012"
             ],
             [
              0.2222222222222222,
              "#000013"
             ],
             [
              0.3333333333333333,
              "#000014"
             ],
             [
              0.4444444444444444,
              "#000015"
             ],
             [
              0.5555555555555556,
              "#000016"
             ],
             [
              0.6666666666666666,
              "#000017"
             ],
             [
              0.7777777777777778,
              "#000018"
             ],
             [
              0.8888888888888888,
              "#000019"
             ],
             [
              1,
              "#000020"
             ]
            ],
            "type": "contourcarpet"
           }
          ],
          "heatmap": [
           {
            "colorscale": [
             [
              0,
              "#000011"
             ],
             [
              0.1111111111111111,
              "#000012"
             ],
             [
              0.2222222222222222,
              "#000013"
             ],
             [
              0.3333333333333333,
              "#000014"
             ],
             [
              0.4444444444444444,
              "#000015"
             ],
             [
              0.5555555555555556,
              "#000016"
             ],
             [
              0.6666666666666666,
              "#000017"
             ],
             [
              0.7777777777777778,
              "#000018"
             ],
             [
              0.8888888888888888,
              "#000019"
             ],
             [
              1,
              "#000020"
             ]
            ],
            "type": "heatmap"
           }
          ],
          "histogram2d": [
           {
            "colorscale": [
             [
              0,
              "#000011"
             ],
             [
              0.1111111111111111,
              "#000012"
             ],
             [
              0.2222222222222222,
              "#000013"
             ],
             [
              0.3333333333333333,
              "#000014"
             ],
             [
              0.4444444444444444,
              "#000015"
             ],
             [
              0.5555555555555556,
              "#000016"
             ],
             [
              0.6666666666666666,
              "#000017"
             ],
             [
              0.7777777777777778,
              "#000018"
             ],
             [
              0.8888888888888888,
              "#000019"
             ],
             [
              1,
              "#000020"
             ]
            ],
            "type": "histogram2d"
           }
          ],
          "icicle": [
           {
            "textfont": {
             "color": "white"
            },
            "type": "icicle"
           }
          ],
          "sankey": [
           {
            "textfont": {
             "color": "#000036"
            },
            "type": "sankey"
           }
          ],
          "scatter": [
           {
            "marker": {
             "line": {
              "width": 0
             }
            },
            "type": "scatter"
           }
          ],
          "table": [
           {
            "cells": {
             "fill": {
              "color": "#000038"
             },
             "font": {
              "color": "#000037"
             },
             "line": {
              "color": "#000039"
             }
            },
            "header": {
             "fill": {
              "color": "#000040"
             },
             "font": {
              "color": "#000036"
             },
             "line": {
              "color": "#000039"
             }
            },
            "type": "table"
           }
          ],
          "waterfall": [
           {
            "connector": {
             "line": {
              "color": "#000036",
              "width": 2
             }
            },
            "decreasing": {
             "marker": {
              "color": "#000033"
             }
            },
            "increasing": {
             "marker": {
              "color": "#000032"
             }
            },
            "totals": {
             "marker": {
              "color": "#000034"
             }
            },
            "type": "waterfall"
           }
          ]
         },
         "layout": {
          "coloraxis": {
           "colorscale": [
            [
             0,
             "#000011"
            ],
            [
             0.1111111111111111,
             "#000012"
            ],
            [
             0.2222222222222222,
             "#000013"
            ],
            [
             0.3333333333333333,
             "#000014"
            ],
            [
             0.4444444444444444,
             "#000015"
            ],
            [
             0.5555555555555556,
             "#000016"
            ],
            [
             0.6666666666666666,
             "#000017"
            ],
            [
             0.7777777777777778,
             "#000018"
            ],
            [
             0.8888888888888888,
             "#000019"
            ],
            [
             1,
             "#000020"
            ]
           ]
          },
          "colorscale": {
           "diverging": [
            [
             0,
             "#000021"
            ],
            [
             0.1,
             "#000022"
            ],
            [
             0.2,
             "#000023"
            ],
            [
             0.3,
             "#000024"
            ],
            [
             0.4,
             "#000025"
            ],
            [
             0.5,
             "#000026"
            ],
            [
             0.6,
             "#000027"
            ],
            [
             0.7,
             "#000028"
            ],
            [
             0.8,
             "#000029"
            ],
            [
             0.9,
             "#000030"
            ],
            [
             1,
             "#000031"
            ]
           ],
           "sequential": [
            [
             0,
             "#000011"
            ],
            [
             0.1111111111111111,
             "#000012"
            ],
            [
             0.2222222222222222,
             "#000013"
            ],
            [
             0.3333333333333333,
             "#000014"
            ],
            [
             0.4444444444444444,
             "#000015"
            ],
            [
             0.5555555555555556,
             "#000016"
            ],
            [
             0.6666666666666666,
             "#000017"
            ],
            [
             0.7777777777777778,
             "#000018"
            ],
            [
             0.8888888888888888,
             "#000019"
            ],
            [
             1,
             "#000020"
            ]
           ],
           "sequentialminus": [
            [
             0,
             "#000011"
            ],
            [
             0.1111111111111111,
             "#000012"
            ],
            [
             0.2222222222222222,
             "#000013"
            ],
            [
             0.3333333333333333,
             "#000014"
            ],
            [
             0.4444444444444444,
             "#000015"
            ],
            [
             0.5555555555555556,
             "#000016"
            ],
            [
             0.6666666666666666,
             "#000017"
            ],
            [
             0.7777777777777778,
             "#000018"
            ],
            [
             0.8888888888888888,
             "#000019"
            ],
            [
             1,
             "#000020"
            ]
           ]
          },
          "colorway": [
           "#000001",
           "#000002",
           "#000003",
           "#000004",
           "#000005",
           "#000006",
           "#000007",
           "#000008",
           "#000009",
           "#000010"
          ]
         }
        },
        "title": {
         "text": "Common Topics and Average Ratings"
        },
        "xaxis": {
         "title": {
          "text": "Ratings"
         }
        },
        "yaxis": {
         "automargin": true,
         "title": {
          "text": "Common Topics"
         }
        }
       }
      }
     },
     "metadata": {},
     "output_type": "display_data"
    }
   ],
   "source": [
    "# - Interactively show what each point is mainly about. A scatter plot would be perfect to individually pick each point.\n",
    "import plotly.graph_objects as go\n",
    "\n",
    "def plot_interactive_ratings(data):\n",
    "    thresh_value = np.unique(data.common_topics.value_counts().values)[3]\n",
    "\n",
    "    max_ratings_by_topic = data[data.common_topics.isin(data.common_topics.value_counts()[data.common_topics.value_counts() > thresh_value/2].index)].groupby('common_topics')['rating'].mean().reset_index()\n",
    "    \n",
    "    # Create a scatter plot\n",
    "    fig = go.Figure(data=go.Scatter(\n",
    "        x=max_ratings_by_topic['rating'],  # Use the ratings as x-values\n",
    "        y=max_ratings_by_topic['common_topics'],  # Use the common_topics as y-values\n",
    "        mode='markers',  # Set the mode to markers for a scatter plot\n",
    "        marker=dict(\n",
    "            color=max_ratings_by_topic['rating'],  # Color the markers based on the ratings\n",
    "            # colorscale='turbo',  # Choose a color scale\n",
    "            # colorbar=dict(title='Ratings'),  # Add a color bar with a title\n",
    "            size=10  # Set the marker size\n",
    "        )\n",
    "    ))\n",
    "    \n",
    "    # Customize the layout\n",
    "    fig.update_layout(\n",
    "        title='Common Topics and Average Ratings',  # Add a title\n",
    "        xaxis_title='Ratings',  # Label the x-axis\n",
    "        yaxis_title='Common Topics',  # Label the y-axis\n",
    "        font=dict(size=10),  # Set the font size\n",
    "        height=1000,  # Set the height of the plot\n",
    "    )\n",
    "\n",
    "    fig.update_yaxes(automargin=True)\n",
    "    \n",
    "    # Show the interactive scatter plot\n",
    "    fig.show()\n",
    "\n",
    "plot_interactive_ratings(data)"
   ]
  },
  {
   "cell_type": "code",
   "execution_count": null,
   "metadata": {},
   "outputs": [],
   "source": []
  }
 ],
 "metadata": {
  "kernelspec": {
   "display_name": "Python 3",
   "language": "python",
   "name": "python3"
  },
  "language_info": {
   "codemirror_mode": {
    "name": "ipython",
    "version": 3
   },
   "file_extension": ".py",
   "mimetype": "text/x-python",
   "name": "python",
   "nbconvert_exporter": "python",
   "pygments_lexer": "ipython3",
   "version": "3.10.12"
  }
 },
 "nbformat": 4,
 "nbformat_minor": 2
}
