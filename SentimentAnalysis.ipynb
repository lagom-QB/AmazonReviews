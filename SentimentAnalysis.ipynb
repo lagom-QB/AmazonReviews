{
 "cells": [
  {
   "cell_type": "code",
   "execution_count": 1,
   "metadata": {},
   "outputs": [
    {
     "name": "stderr",
     "output_type": "stream",
     "text": [
      "/Users/iffiness/.pyenv/versions/3.10.12/lib/python3.10/site-packages/tqdm/auto.py:21: TqdmWarning: IProgress not found. Please update jupyter and ipywidgets. See https://ipywidgets.readthedocs.io/en/stable/user_install.html\n",
      "  from .autonotebook import tqdm as notebook_tqdm\n"
     ]
    }
   ],
   "source": [
    "import pandas as pd\n",
    "import numpy as np\n",
    "\n",
    "import matplotlib.pyplot as plt\n",
    "import seaborn as sns\n",
    "\n",
    "from transformers import pipeline, AutoTokenizer # basic, autoTokinizer, DistilBertForSequenceClassifier, \n",
    "\n",
    "import plotly.graph_objects as go\n",
    "\n",
    "import streamlit as st\n",
    "\n",
    "import torch\n",
    "import fire\n",
    "\n",
    "import concurrent.futures\n",
    "from tqdm import tqdm\n",
    "\n",
    "import warnings\n",
    "warnings.filterwarnings('ignore')\n",
    "sns.set_style('darkgrid')"
   ]
  },
  {
   "cell_type": "code",
   "execution_count": 2,
   "metadata": {},
   "outputs": [
    {
     "name": "stdout",
     "output_type": "stream",
     "text": [
      "Note: you may need to restart the kernel to use updated packages.\n"
     ]
    }
   ],
   "source": [
    "!pip freeze > requirements.txt"
   ]
  },
  {
   "cell_type": "markdown",
   "metadata": {},
   "source": [
    "# Sentiment Analysis of Amazon Reviews\n",
    "<!-- precision and recall of 0.916 -->\n",
    "## Tools  \n",
    "- Python\n",
    "- Pytorch (_Deep Learning model_)\n",
    "- Seaborn (_statistical visualizations_)\n",
    "- NLTK (_Machine Learning and Text Analysis_)"
   ]
  },
  {
   "cell_type": "markdown",
   "metadata": {},
   "source": [
    "Now this looks cleaner and more manageable.  \n",
    "Now looking at the count of each rating."
   ]
  },
  {
   "cell_type": "code",
   "execution_count": 20,
   "metadata": {},
   "outputs": [
    {
     "name": "stdout",
     "output_type": "stream",
     "text": [
      "shape: (3649999, 6)\n",
      "Null values: column_0    2999999\n",
      "column_1    3000025\n",
      "column_2    2999999\n",
      "column_3     649999\n",
      "column_4     650187\n",
      "column_5     649999\n",
      "dtype: int64\n",
      "\n"
     ]
    },
    {
     "data": {
      "image/png": "[encoded data removed]",
      "text/plain": [
       "<Figure size 1000x500 with 1 Axes>"
      ]
     },
     "metadata": {},
     "output_type": "display_data"
    },
    {
     "data": {
      "text/html": [
       "<div>\n",
       "<style scoped>\n",
       "    .dataframe tbody tr th:only-of-type {\n",
       "        vertical-align: middle;\n",
       "    }\n",
       "\n",
       "    .dataframe tbody tr th {\n",
       "        vertical-align: top;\n",
       "    }\n",
       "\n",
       "    .dataframe thead th {\n",
       "        text-align: right;\n",
       "    }\n",
       "</style>\n",
       "<table border=\"1\" class=\"dataframe\">\n",
       "  <thead>\n",
       "    <tr style=\"text-align: right;\">\n",
       "      <th></th>\n",
       "      <th>sentiment</th>\n",
       "      <th>rating</th>\n",
       "    </tr>\n",
       "  </thead>\n",
       "  <tbody>\n",
       "    <tr>\n",
       "      <th>0</th>\n",
       "      <td>mens ultrasheer This model may be ok for seden...</td>\n",
       "      <td>3.0</td>\n",
       "    </tr>\n",
       "    <tr>\n",
       "      <th>1</th>\n",
       "      <td>Surprisingly delightful This is a fast read fi...</td>\n",
       "      <td>4.0</td>\n",
       "    </tr>\n",
       "    <tr>\n",
       "      <th>2</th>\n",
       "      <td>Works, but not as advertised I bought one of t...</td>\n",
       "      <td>2.0</td>\n",
       "    </tr>\n",
       "    <tr>\n",
       "      <th>3</th>\n",
       "      <td>Oh dear I was excited to find a book ostensibl...</td>\n",
       "      <td>2.0</td>\n",
       "    </tr>\n",
       "    <tr>\n",
       "      <th>4</th>\n",
       "      <td>Incorrect disc! I am a big JVC fan, but I do n...</td>\n",
       "      <td>2.0</td>\n",
       "    </tr>\n",
       "    <tr>\n",
       "      <th>...</th>\n",
       "      <td>...</td>\n",
       "      <td>...</td>\n",
       "    </tr>\n",
       "    <tr>\n",
       "      <th>3649994</th>\n",
       "      <td>Don't do it!! The high chair looks great whe...</td>\n",
       "      <td>1.0</td>\n",
       "    </tr>\n",
       "    <tr>\n",
       "      <th>3649995</th>\n",
       "      <td>Looks nice, low functionality I have used th...</td>\n",
       "      <td>2.0</td>\n",
       "    </tr>\n",
       "    <tr>\n",
       "      <th>3649996</th>\n",
       "      <td>compact, but hard to clean We have a small h...</td>\n",
       "      <td>2.0</td>\n",
       "    </tr>\n",
       "    <tr>\n",
       "      <th>3649997</th>\n",
       "      <td>Hard to clean! I agree with everyone else wh...</td>\n",
       "      <td>3.0</td>\n",
       "    </tr>\n",
       "    <tr>\n",
       "      <th>3649998</th>\n",
       "      <td>what is it saying? not sure what this book i...</td>\n",
       "      <td>1.0</td>\n",
       "    </tr>\n",
       "  </tbody>\n",
       "</table>\n",
       "<p>3649999 rows × 2 columns</p>\n",
       "</div>"
      ],
      "text/plain": [
       "                                                 sentiment  rating\n",
       "0        mens ultrasheer This model may be ok for seden...     3.0\n",
       "1        Surprisingly delightful This is a fast read fi...     4.0\n",
       "2        Works, but not as advertised I bought one of t...     2.0\n",
       "3        Oh dear I was excited to find a book ostensibl...     2.0\n",
       "4        Incorrect disc! I am a big JVC fan, but I do n...     2.0\n",
       "...                                                    ...     ...\n",
       "3649994    Don't do it!! The high chair looks great whe...     1.0\n",
       "3649995    Looks nice, low functionality I have used th...     2.0\n",
       "3649996    compact, but hard to clean We have a small h...     2.0\n",
       "3649997    Hard to clean! I agree with everyone else wh...     3.0\n",
       "3649998    what is it saying? not sure what this book i...     1.0\n",
       "\n",
       "[3649999 rows x 2 columns]"
      ]
     },
     "execution_count": 20,
     "metadata": {},
     "output_type": "execute_result"
    }
   ],
   "source": [
    "from app_scripts.load_preprocess_data import load_data, preprocess_data, get_sentiment, plot_ratings\n",
    "\n",
    "data = load_data()\n",
    "# data = preprocess_data(data)\n",
    "data = get_sentiment(data)\n",
    "plot_ratings(data)\n",
    "data\n"
   ]
  },
  {
   "cell_type": "markdown",
   "metadata": {},
   "source": [
    "Seems like column_0 and column_3 are numeric columns while the others are text where either column_0 is populated or column_3 is.  \n",
    "So I don't think it is far-fetched to merge the columns such that:\n",
    "- column_0 and column_3 are a single column\n",
    "- column_1, column_2, column_4, column_5 are the text columns"
   ]
  },
  {
   "cell_type": "code",
   "execution_count": 4,
   "metadata": {},
   "outputs": [
    {
     "data": {
      "text/html": [
       "<div>\n",
       "<style scoped>\n",
       "    .dataframe tbody tr th:only-of-type {\n",
       "        vertical-align: middle;\n",
       "    }\n",
       "\n",
       "    .dataframe tbody tr th {\n",
       "        vertical-align: top;\n",
       "    }\n",
       "\n",
       "    .dataframe thead th {\n",
       "        text-align: right;\n",
       "    }\n",
       "</style>\n",
       "<table border=\"1\" class=\"dataframe\">\n",
       "  <thead>\n",
       "    <tr style=\"text-align: right;\">\n",
       "      <th></th>\n",
       "      <th>sentiment</th>\n",
       "      <th>rating</th>\n",
       "      <th>huggingface_autoTokenizer</th>\n",
       "      <th>huggingFace_Distilbert</th>\n",
       "    </tr>\n",
       "  </thead>\n",
       "  <tbody>\n",
       "    <tr>\n",
       "      <th>0</th>\n",
       "      <td>Nice concept-lousy execution When it works it'...</td>\n",
       "      <td>2.0</td>\n",
       "      <td>Negative</td>\n",
       "      <td>2 stars</td>\n",
       "    </tr>\n",
       "    <tr>\n",
       "      <th>1</th>\n",
       "      <td>A Pleasure I bought this DVD primarily to ge...</td>\n",
       "      <td>4.0</td>\n",
       "      <td>Positive</td>\n",
       "      <td>4 stars</td>\n",
       "    </tr>\n",
       "    <tr>\n",
       "      <th>2</th>\n",
       "      <td>Not quite as advertised... If I could give h...</td>\n",
       "      <td>3.0</td>\n",
       "      <td>Neutral</td>\n",
       "      <td>3 stars</td>\n",
       "    </tr>\n",
       "    <tr>\n",
       "      <th>3</th>\n",
       "      <td>motion eye,camera, problem all the reveiws i r...</td>\n",
       "      <td>4.0</td>\n",
       "      <td>Positive</td>\n",
       "      <td>4 stars</td>\n",
       "    </tr>\n",
       "    <tr>\n",
       "      <th>4</th>\n",
       "      <td>Only one year Everything was going fine unti...</td>\n",
       "      <td>1.0</td>\n",
       "      <td>Negative</td>\n",
       "      <td>1 star</td>\n",
       "    </tr>\n",
       "    <tr>\n",
       "      <th>...</th>\n",
       "      <td>...</td>\n",
       "      <td>...</td>\n",
       "      <td>...</td>\n",
       "      <td>...</td>\n",
       "    </tr>\n",
       "    <tr>\n",
       "      <th>3645</th>\n",
       "      <td>enjoyed it english is not my mother language...</td>\n",
       "      <td>4.0</td>\n",
       "      <td>Positive</td>\n",
       "      <td>3 stars</td>\n",
       "    </tr>\n",
       "    <tr>\n",
       "      <th>3646</th>\n",
       "      <td>Not completely worthless. If you want to take ...</td>\n",
       "      <td>2.0</td>\n",
       "      <td>Positive</td>\n",
       "      <td>1 star</td>\n",
       "    </tr>\n",
       "    <tr>\n",
       "      <th>3647</th>\n",
       "      <td>RIP OFF WOW.. this is such a rip off. Who pu...</td>\n",
       "      <td>1.0</td>\n",
       "      <td>Positive</td>\n",
       "      <td>1 star</td>\n",
       "    </tr>\n",
       "    <tr>\n",
       "      <th>3648</th>\n",
       "      <td>Warning: This is not an instrumental album. ...</td>\n",
       "      <td>2.0</td>\n",
       "      <td>Positive</td>\n",
       "      <td>2 stars</td>\n",
       "    </tr>\n",
       "    <tr>\n",
       "      <th>3649</th>\n",
       "      <td>Blow your top We bought this carafe less tha...</td>\n",
       "      <td>3.0</td>\n",
       "      <td>Negative</td>\n",
       "      <td>1 star</td>\n",
       "    </tr>\n",
       "  </tbody>\n",
       "</table>\n",
       "<p>3650 rows × 4 columns</p>\n",
       "</div>"
      ],
      "text/plain": [
       "                                              sentiment  rating  \\\n",
       "0     Nice concept-lousy execution When it works it'...     2.0   \n",
       "1       A Pleasure I bought this DVD primarily to ge...     4.0   \n",
       "2       Not quite as advertised... If I could give h...     3.0   \n",
       "3     motion eye,camera, problem all the reveiws i r...     4.0   \n",
       "4       Only one year Everything was going fine unti...     1.0   \n",
       "...                                                 ...     ...   \n",
       "3645    enjoyed it english is not my mother language...     4.0   \n",
       "3646  Not completely worthless. If you want to take ...     2.0   \n",
       "3647    RIP OFF WOW.. this is such a rip off. Who pu...     1.0   \n",
       "3648    Warning: This is not an instrumental album. ...     2.0   \n",
       "3649    Blow your top We bought this carafe less tha...     3.0   \n",
       "\n",
       "     huggingface_autoTokenizer huggingFace_Distilbert  \n",
       "0                     Negative                2 stars  \n",
       "1                     Positive                4 stars  \n",
       "2                      Neutral                3 stars  \n",
       "3                     Positive                4 stars  \n",
       "4                     Negative                 1 star  \n",
       "...                        ...                    ...  \n",
       "3645                  Positive                3 stars  \n",
       "3646                  Positive                 1 star  \n",
       "3647                  Positive                 1 star  \n",
       "3648                  Positive                2 stars  \n",
       "3649                  Negative                 1 star  \n",
       "\n",
       "[3650 rows x 4 columns]"
      ]
     },
     "execution_count": 4,
     "metadata": {},
     "output_type": "execute_result"
    }
   ],
   "source": [
    "from app_scripts.model import huggingface_autoTokenizer, huggingFace_Distilbert\n",
    "\n",
    "data = data.sample(frac =.009).reset_index(drop=True)\n",
    "# data = data.sample(20).reset_index(drop=True)\n",
    "\n",
    "data = huggingface_autoTokenizer(data)\n",
    "data = huggingFace_Distilbert(data)\n",
    "data.shape, data.sample(4)\n"
   ]
  },
  {
   "cell_type": "markdown",
   "metadata": {},
   "source": [
    "### TODO:\n",
    "- Plot the ratings.\n",
    "   - For each sentence, find the main topic of the text as in what the complain is talking about. \n",
    "- Interactively show what each point is mainly about. A scatter plot would be perfect to individually pick each point.\n",
    "- Include a single value for a general rating for each single sentiment"
   ]
  },
  {
   "cell_type": "code",
   "execution_count": 5,
   "metadata": {},
   "outputs": [
    {
     "data": {
      "text/html": [
       "<div>\n",
       "<style scoped>\n",
       "    .dataframe tbody tr th:only-of-type {\n",
       "        vertical-align: middle;\n",
       "    }\n",
       "\n",
       "    .dataframe tbody tr th {\n",
       "        vertical-align: top;\n",
       "    }\n",
       "\n",
       "    .dataframe thead th {\n",
       "        text-align: right;\n",
       "    }\n",
       "</style>\n",
       "<table border=\"1\" class=\"dataframe\">\n",
       "  <thead>\n",
       "    <tr style=\"text-align: right;\">\n",
       "      <th></th>\n",
       "      <th>sentiment</th>\n",
       "      <th>rating</th>\n",
       "      <th>huggingface_autoTokenizer</th>\n",
       "      <th>huggingFace_Distilbert</th>\n",
       "    </tr>\n",
       "  </thead>\n",
       "  <tbody>\n",
       "    <tr>\n",
       "      <th>0</th>\n",
       "      <td>Nice concept-lousy execution When it works it'...</td>\n",
       "      <td>2.0</td>\n",
       "      <td>Negative</td>\n",
       "      <td>2 stars</td>\n",
       "    </tr>\n",
       "    <tr>\n",
       "      <th>1</th>\n",
       "      <td>A Pleasure I bought this DVD primarily to ge...</td>\n",
       "      <td>4.0</td>\n",
       "      <td>Positive</td>\n",
       "      <td>4 stars</td>\n",
       "    </tr>\n",
       "    <tr>\n",
       "      <th>2</th>\n",
       "      <td>Not quite as advertised... If I could give h...</td>\n",
       "      <td>3.0</td>\n",
       "      <td>Neutral</td>\n",
       "      <td>3 stars</td>\n",
       "    </tr>\n",
       "    <tr>\n",
       "      <th>3</th>\n",
       "      <td>motion eye,camera, problem all the reveiws i r...</td>\n",
       "      <td>4.0</td>\n",
       "      <td>Positive</td>\n",
       "      <td>4 stars</td>\n",
       "    </tr>\n",
       "    <tr>\n",
       "      <th>4</th>\n",
       "      <td>Only one year Everything was going fine unti...</td>\n",
       "      <td>1.0</td>\n",
       "      <td>Negative</td>\n",
       "      <td>1 star</td>\n",
       "    </tr>\n",
       "    <tr>\n",
       "      <th>...</th>\n",
       "      <td>...</td>\n",
       "      <td>...</td>\n",
       "      <td>...</td>\n",
       "      <td>...</td>\n",
       "    </tr>\n",
       "    <tr>\n",
       "      <th>3645</th>\n",
       "      <td>enjoyed it english is not my mother language...</td>\n",
       "      <td>4.0</td>\n",
       "      <td>Positive</td>\n",
       "      <td>3 stars</td>\n",
       "    </tr>\n",
       "    <tr>\n",
       "      <th>3646</th>\n",
       "      <td>Not completely worthless. If you want to take ...</td>\n",
       "      <td>2.0</td>\n",
       "      <td>Positive</td>\n",
       "      <td>1 star</td>\n",
       "    </tr>\n",
       "    <tr>\n",
       "      <th>3647</th>\n",
       "      <td>RIP OFF WOW.. this is such a rip off. Who pu...</td>\n",
       "      <td>1.0</td>\n",
       "      <td>Positive</td>\n",
       "      <td>1 star</td>\n",
       "    </tr>\n",
       "    <tr>\n",
       "      <th>3648</th>\n",
       "      <td>Warning: This is not an instrumental album. ...</td>\n",
       "      <td>2.0</td>\n",
       "      <td>Positive</td>\n",
       "      <td>2 stars</td>\n",
       "    </tr>\n",
       "    <tr>\n",
       "      <th>3649</th>\n",
       "      <td>Blow your top We bought this carafe less tha...</td>\n",
       "      <td>3.0</td>\n",
       "      <td>Negative</td>\n",
       "      <td>1 star</td>\n",
       "    </tr>\n",
       "  </tbody>\n",
       "</table>\n",
       "<p>3650 rows × 4 columns</p>\n",
       "</div>"
      ],
      "text/plain": [
       "                                              sentiment  rating  \\\n",
       "0     Nice concept-lousy execution When it works it'...     2.0   \n",
       "1       A Pleasure I bought this DVD primarily to ge...     4.0   \n",
       "2       Not quite as advertised... If I could give h...     3.0   \n",
       "3     motion eye,camera, problem all the reveiws i r...     4.0   \n",
       "4       Only one year Everything was going fine unti...     1.0   \n",
       "...                                                 ...     ...   \n",
       "3645    enjoyed it english is not my mother language...     4.0   \n",
       "3646  Not completely worthless. If you want to take ...     2.0   \n",
       "3647    RIP OFF WOW.. this is such a rip off. Who pu...     1.0   \n",
       "3648    Warning: This is not an instrumental album. ...     2.0   \n",
       "3649    Blow your top We bought this carafe less tha...     3.0   \n",
       "\n",
       "     huggingface_autoTokenizer huggingFace_Distilbert  \n",
       "0                     Negative                2 stars  \n",
       "1                     Positive                4 stars  \n",
       "2                      Neutral                3 stars  \n",
       "3                     Positive                4 stars  \n",
       "4                     Negative                 1 star  \n",
       "...                        ...                    ...  \n",
       "3645                  Positive                3 stars  \n",
       "3646                  Positive                 1 star  \n",
       "3647                  Positive                 1 star  \n",
       "3648                  Positive                2 stars  \n",
       "3649                  Negative                 1 star  \n",
       "\n",
       "[3650 rows x 4 columns]"
      ]
     },
     "metadata": {},
     "output_type": "display_data"
    },
    {
     "data": {
      "text/plain": [
       "(3650, 4)"
      ]
     },
     "metadata": {},
     "output_type": "display_data"
    }
   ],
   "source": [
    "display(data, data.shape)"
   ]
  },
  {
   "cell_type": "code",
   "execution_count": 6,
   "metadata": {},
   "outputs": [
    {
     "data": {
      "image/png": "[encoded data removed]",
      "text/plain": [
       "<Figure size 1000x1800 with 1 Axes>"
      ]
     },
     "metadata": {},
     "output_type": "display_data"
    },
    {
     "data": {
      "image/png": "[encoded data removed]",
      "text/plain": [
       "<Figure size 800x2000 with 1 Axes>"
      ]
     },
     "metadata": {},
     "output_type": "display_data"
    }
   ],
   "source": [
    "from app_scripts.topic_modelling import get_topics, get_common_topics, plot_topic_repetitions, plot_topic_vs_ratings\n",
    "import pandas as pd\n",
    "\n",
    "data = get_topics(data)\n",
    "data = get_common_topics(data)\n",
    "\n",
    "plot_topic_repetitions(data)\n",
    "plot_topic_vs_ratings(data)\n"
   ]
  },
  {
   "cell_type": "code",
   "execution_count": 7,
   "metadata": {},
   "outputs": [
    {
     "data": {
      "application/vnd.plotly.v1+json": {
       "config": {
        "plotlyServerURL": "https://plot.ly"
       },
       "data": [
        {
         "marker": {
          "color": [
           3.488888888888889,
           2.090909090909091,
           3.857142857142857,
           3,
           2.969111969111969,
           3.272727272727273,
           3.1818181818181817,
           2.9069767441860463,
           2.909090909090909,
           2.25,
           2.8181818181818183,
           3.1578947368421053,
           2.3870967741935485,
           3.2753623188405796,
           4.214285714285714,
           2.25,
           2.757575757575758,
           2.760869565217391,
           3.272727272727273,
           4.4,
           2,
           2.75,
           2,
           2.5,
           2.5625,
           3.076923076923077,
           3.1842105263157894,
           3.2666666666666666,
           3,
           3.1818181818181817,
           3,
           3.1481481481481484,
           2.5833333333333335,
           3.5384615384615383,
           3.090909090909091,
           3,
           2.3684210526315788
          ],
          "size": 10
         },
         "mode": "markers",
         "type": "scatter",
         "x": [
          3.488888888888889,
          2.090909090909091,
          3.857142857142857,
          3,
          2.969111969111969,
          3.272727272727273,
          3.1818181818181817,
          2.9069767441860463,
          2.909090909090909,
          2.25,
          2.8181818181818183,
          3.1578947368421053,
          2.3870967741935485,
          3.2753623188405796,
          4.214285714285714,
          2.25,
          2.757575757575758,
          2.760869565217391,
          3.272727272727273,
          4.4,
          2,
          2.75,
          2,
          2.5,
          2.5625,
          3.076923076923077,
          3.1842105263157894,
          3.2666666666666666,
          3,
          3.1818181818181817,
          3,
          3.1481481481481484,
          2.5833333333333335,
          3.5384615384615383,
          3.090909090909091,
          3,
          2.3684210526315788
         ],
         "y": [
          "album",
          "bad",
          "best",
          "better",
          "book",
          "books",
          "camera",
          "cd",
          "coffee",
          "don",
          "dvd",
          "film",
          "game",
          "good",
          "great",
          "item",
          "just",
          "like",
          "little",
          "love",
          "money",
          "movie",
          "phone",
          "problem",
          "product",
          "quality",
          "read",
          "really",
          "series",
          "song",
          "songs",
          "story",
          "time",
          "use",
          "ve",
          "way",
          "work"
         ]
        }
       ],
       "layout": {
        "font": {
         "size": 10
        },
        "height": 1000,
        "template": {
         "data": {
          "bar": [
           {
            "error_x": {
             "color": "#2a3f5f"
            },
            "error_y": {
             "color": "#2a3f5f"
            },
            "marker": {
             "line": {
              "color": "#E5ECF6",
              "width": 0.5
             },
             "pattern": {
              "fillmode": "overlay",
              "size": 10,
              "solidity": 0.2
             }
            },
            "type": "bar"
           }
          ],
          "barpolar": [
           {
            "marker": {
             "line": {
              "color": "#E5ECF6",
              "width": 0.5
             },
             "pattern": {
              "fillmode": "overlay",
              "size": 10,
              "solidity": 0.2
             }
            },
            "type": "barpolar"
           }
          ],
          "carpet": [
           {
            "aaxis": {
             "endlinecolor": "#2a3f5f",
             "gridcolor": "white",
             "linecolor": "white",
             "minorgridcolor": "white",
             "startlinecolor": "#2a3f5f"
            },
            "baxis": {
             "endlinecolor": "#2a3f5f",
             "gridcolor": "white",
             "linecolor": "white",
             "minorgridcolor": "white",
             "startlinecolor": "#2a3f5f"
            },
            "type": "carpet"
           }
          ],
          "choropleth": [
           {
            "colorbar": {
             "outlinewidth": 0,
             "ticks": ""
            },
            "type": "choropleth"
           }
          ],
          "contour": [
           {
            "colorbar": {
             "outlinewidth": 0,
             "ticks": ""
            },
            "colorscale": [
             [
              0,
              "#0d0887"
             ],
             [
              0.1111111111111111,
              "#46039f"
             ],
             [
              0.2222222222222222,
              "#7201a8"
             ],
             [
              0.3333333333333333,
              "#9c179e"
             ],
             [
              0.4444444444444444,
              "#bd3786"
             ],
             [
              0.5555555555555556,
              "#d8576b"
             ],
             [
              0.6666666666666666,
              "#ed7953"
             ],
             [
              0.7777777777777778,
              "#fb9f3a"
             ],
             [
              0.8888888888888888,
              "#fdca26"
             ],
             [
              1,
              "#f0f921"
             ]
            ],
            "type": "contour"
           }
          ],
          "contourcarpet": [
           {
            "colorbar": {
             "outlinewidth": 0,
             "ticks": ""
            },
            "type": "contourcarpet"
           }
          ],
          "heatmap": [
           {
            "colorbar": {
             "outlinewidth": 0,
             "ticks": ""
            },
            "colorscale": [
             [
              0,
              "#0d0887"
             ],
             [
              0.1111111111111111,
              "#46039f"
             ],
             [
              0.2222222222222222,
              "#7201a8"
             ],
             [
              0.3333333333333333,
              "#9c179e"
             ],
             [
              0.4444444444444444,
              "#bd3786"
             ],
             [
              0.5555555555555556,
              "#d8576b"
             ],
             [
              0.6666666666666666,
              "#ed7953"
             ],
             [
              0.7777777777777778,
              "#fb9f3a"
             ],
             [
              0.8888888888888888,
              "#fdca26"
             ],
             [
              1,
              "#f0f921"
             ]
            ],
            "type": "heatmap"
           }
          ],
          "heatmapgl": [
           {
            "colorbar": {
             "outlinewidth": 0,
             "ticks": ""
            },
            "colorscale": [
             [
              0,
              "#0d0887"
             ],
             [
              0.1111111111111111,
              "#46039f"
             ],
             [
              0.2222222222222222,
              "#7201a8"
             ],
             [
              0.3333333333333333,
              "#9c179e"
             ],
             [
              0.4444444444444444,
              "#bd3786"
             ],
             [
              0.5555555555555556,
              "#d8576b"
             ],
             [
              0.6666666666666666,
              "#ed7953"
             ],
             [
              0.7777777777777778,
              "#fb9f3a"
             ],
             [
              0.8888888888888888,
              "#fdca26"
             ],
             [
              1,
              "#f0f921"
             ]
            ],
            "type": "heatmapgl"
           }
          ],
          "histogram": [
           {
            "marker": {
             "pattern": {
              "fillmode": "overlay",
              "size": 10,
              "solidity": 0.2
             }
            },
            "type": "histogram"
           }
          ],
          "histogram2d": [
           {
            "colorbar": {
             "outlinewidth": 0,
             "ticks": ""
            },
            "colorscale": [
             [
              0,
              "#0d0887"
             ],
             [
              0.1111111111111111,
              "#46039f"
             ],
             [
              0.2222222222222222,
              "#7201a8"
             ],
             [
              0.3333333333333333,
              "#9c179e"
             ],
             [
              0.4444444444444444,
              "#bd3786"
             ],
             [
              0.5555555555555556,
              "#d8576b"
             ],
             [
              0.6666666666666666,
              "#ed7953"
             ],
             [
              0.7777777777777778,
              "#fb9f3a"
             ],
             [
              0.8888888888888888,
              "#fdca26"
             ],
             [
              1,
              "#f0f921"
             ]
            ],
            "type": "histogram2d"
           }
          ],
          "histogram2dcontour": [
           {
            "colorbar": {
             "outlinewidth": 0,
             "ticks": ""
            },
            "colorscale": [
             [
              0,
              "#0d0887"
             ],
             [
              0.1111111111111111,
              "#46039f"
             ],
             [
              0.2222222222222222,
              "#7201a8"
             ],
             [
              0.3333333333333333,
              "#9c179e"
             ],
             [
              0.4444444444444444,
              "#bd3786"
             ],
             [
              0.5555555555555556,
              "#d8576b"
             ],
             [
              0.6666666666666666,
              "#ed7953"
             ],
             [
              0.7777777777777778,
              "#fb9f3a"
             ],
             [
              0.8888888888888888,
              "#fdca26"
             ],
             [
              1,
              "#f0f921"
             ]
            ],
            "type": "histogram2dcontour"
           }
          ],
          "mesh3d": [
           {
            "colorbar": {
             "outlinewidth": 0,
             "ticks": ""
            },
            "type": "mesh3d"
           }
          ],
          "parcoords": [
           {
            "line": {
             "colorbar": {
              "outlinewidth": 0,
              "ticks": ""
             }
            },
            "type": "parcoords"
           }
          ],
          "pie": [
           {
            "automargin": true,
            "type": "pie"
           }
          ],
          "scatter": [
           {
            "fillpattern": {
             "fillmode": "overlay",
             "size": 10,
             "solidity": 0.2
            },
            "type": "scatter"
           }
          ],
          "scatter3d": [
           {
            "line": {
             "colorbar": {
              "outlinewidth": 0,
              "ticks": ""
             }
            },
            "marker": {
             "colorbar": {
              "outlinewidth": 0,
              "ticks": ""
             }
            },
            "type": "scatter3d"
           }
          ],
          "scattercarpet": [
           {
            "marker": {
             "colorbar": {
              "outlinewidth": 0,
              "ticks": ""
             }
            },
            "type": "scattercarpet"
           }
          ],
          "scattergeo": [
           {
            "marker": {
             "colorbar": {
              "outlinewidth": 0,
              "ticks": ""
             }
            },
            "type": "scattergeo"
           }
          ],
          "scattergl": [
           {
            "marker": {
             "colorbar": {
              "outlinewidth": 0,
              "ticks": ""
             }
            },
            "type": "scattergl"
           }
          ],
          "scattermapbox": [
           {
            "marker": {
             "colorbar": {
              "outlinewidth": 0,
              "ticks": ""
             }
            },
            "type": "scattermapbox"
           }
          ],
          "scatterpolar": [
           {
            "marker": {
             "colorbar": {
              "outlinewidth": 0,
              "ticks": ""
             }
            },
            "type": "scatterpolar"
           }
          ],
          "scatterpolargl": [
           {
            "marker": {
             "colorbar": {
              "outlinewidth": 0,
              "ticks": ""
             }
            },
            "type": "scatterpolargl"
           }
          ],
          "scatterternary": [
           {
            "marker": {
             "colorbar": {
              "outlinewidth": 0,
              "ticks": ""
             }
            },
            "type": "scatterternary"
           }
          ],
          "surface": [
           {
            "colorbar": {
             "outlinewidth": 0,
             "ticks": ""
            },
            "colorscale": [
             [
              0,
              "#0d0887"
             ],
             [
              0.1111111111111111,
              "#46039f"
             ],
             [
              0.2222222222222222,
              "#7201a8"
             ],
             [
              0.3333333333333333,
              "#9c179e"
             ],
             [
              0.4444444444444444,
              "#bd3786"
             ],
             [
              0.5555555555555556,
              "#d8576b"
             ],
             [
              0.6666666666666666,
              "#ed7953"
             ],
             [
              0.7777777777777778,
              "#fb9f3a"
             ],
             [
              0.8888888888888888,
              "#fdca26"
             ],
             [
              1,
              "#f0f921"
             ]
            ],
            "type": "surface"
           }
          ],
          "table": [
           {
            "cells": {
             "fill": {
              "color": "#EBF0F8"
             },
             "line": {
              "color": "white"
             }
            },
            "header": {
             "fill": {
              "color": "#C8D4E3"
             },
             "line": {
              "color": "white"
             }
            },
            "type": "table"
           }
          ]
         },
         "layout": {
          "annotationdefaults": {
           "arrowcolor": "#2a3f5f",
           "arrowhead": 0,
           "arrowwidth": 1
          },
          "autotypenumbers": "strict",
          "coloraxis": {
           "colorbar": {
            "outlinewidth": 0,
            "ticks": ""
           }
          },
          "colorscale": {
           "diverging": [
            [
             0,
             "#8e0152"
            ],
            [
             0.1,
             "#c51b7d"
            ],
            [
             0.2,
             "#de77ae"
            ],
            [
             0.3,
             "#f1b6da"
            ],
            [
             0.4,
             "#fde0ef"
            ],
            [
             0.5,
             "#f7f7f7"
            ],
            [
             0.6,
             "#e6f5d0"
            ],
            [
             0.7,
             "#b8e186"
            ],
            [
             0.8,
             "#7fbc41"
            ],
            [
             0.9,
             "#4d9221"
            ],
            [
             1,
             "#276419"
            ]
           ],
           "sequential": [
            [
             0,
             "#0d0887"
            ],
            [
             0.1111111111111111,
             "#46039f"
            ],
            [
             0.2222222222222222,
             "#7201a8"
            ],
            [
             0.3333333333333333,
             "#9c179e"
            ],
            [
             0.4444444444444444,
             "#bd3786"
            ],
            [
             0.5555555555555556,
             "#d8576b"
            ],
            [
             0.6666666666666666,
             "#ed7953"
            ],
            [
             0.7777777777777778,
             "#fb9f3a"
            ],
            [
             0.8888888888888888,
             "#fdca26"
            ],
            [
             1,
             "#f0f921"
            ]
           ],
           "sequentialminus": [
            [
             0,
             "#0d0887"
            ],
            [
             0.1111111111111111,
             "#46039f"
            ],
            [
             0.2222222222222222,
             "#7201a8"
            ],
            [
             0.3333333333333333,
             "#9c179e"
            ],
            [
             0.4444444444444444,
             "#bd3786"
            ],
            [
             0.5555555555555556,
             "#d8576b"
            ],
            [
             0.6666666666666666,
             "#ed7953"
            ],
            [
             0.7777777777777778,
             "#fb9f3a"
            ],
            [
             0.8888888888888888,
             "#fdca26"
            ],
            [
             1,
             "#f0f921"
            ]
           ]
          },
          "colorway": [
           "#636efa",
           "#EF553B",
           "#00cc96",
           "#ab63fa",
           "#FFA15A",
           "#19d3f3",
           "#FF6692",
           "#B6E880",
           "#FF97FF",
           "#FECB52"
          ],
          "font": {
           "color": "#2a3f5f"
          },
          "geo": {
           "bgcolor": "white",
           "lakecolor": "white",
           "landcolor": "#E5ECF6",
           "showlakes": true,
           "showland": true,
           "subunitcolor": "white"
          },
          "hoverlabel": {
           "align": "left"
          },
          "hovermode": "closest",
          "mapbox": {
           "style": "light"
          },
          "paper_bgcolor": "white",
          "plot_bgcolor": "#E5ECF6",
          "polar": {
           "angularaxis": {
            "gridcolor": "white",
            "linecolor": "white",
            "ticks": ""
           },
           "bgcolor": "#E5ECF6",
           "radialaxis": {
            "gridcolor": "white",
            "linecolor": "white",
            "ticks": ""
           }
          },
          "scene": {
           "xaxis": {
            "backgroundcolor": "#E5ECF6",
            "gridcolor": "white",
            "gridwidth": 2,
            "linecolor": "white",
            "showbackground": true,
            "ticks": "",
            "zerolinecolor": "white"
           },
           "yaxis": {
            "backgroundcolor": "#E5ECF6",
            "gridcolor": "white",
            "gridwidth": 2,
            "linecolor": "white",
            "showbackground": true,
            "ticks": "",
            "zerolinecolor": "white"
           },
           "zaxis": {
            "backgroundcolor": "#E5ECF6",
            "gridcolor": "white",
            "gridwidth": 2,
            "linecolor": "white",
            "showbackground": true,
            "ticks": "",
            "zerolinecolor": "white"
           }
          },
          "shapedefaults": {
           "line": {
            "color": "#2a3f5f"
           }
          },
          "ternary": {
           "aaxis": {
            "gridcolor": "white",
            "linecolor": "white",
            "ticks": ""
           },
           "baxis": {
            "gridcolor": "white",
            "linecolor": "white",
            "ticks": ""
           },
           "bgcolor": "#E5ECF6",
           "caxis": {
            "gridcolor": "white",
            "linecolor": "white",
            "ticks": ""
           }
          },
          "title": {
           "x": 0.05
          },
          "xaxis": {
           "automargin": true,
           "gridcolor": "white",
           "linecolor": "white",
           "ticks": "",
           "title": {
            "standoff": 15
           },
           "zerolinecolor": "white",
           "zerolinewidth": 2
          },
          "yaxis": {
           "automargin": true,
           "gridcolor": "white",
           "linecolor": "white",
           "ticks": "",
           "title": {
            "standoff": 15
           },
           "zerolinecolor": "white",
           "zerolinewidth": 2
          }
         }
        },
        "title": {
         "text": "Common Topics and Average Ratings"
        },
        "xaxis": {
         "title": {
          "text": "Ratings"
         }
        },
        "yaxis": {
         "automargin": true,
         "title": {
          "text": "Common Topics"
         }
        }
       }
      }
     },
     "metadata": {},
     "output_type": "display_data"
    },
    {
     "data": {
      "text/html": [
       "<div>\n",
       "<style scoped>\n",
       "    .dataframe tbody tr th:only-of-type {\n",
       "        vertical-align: middle;\n",
       "    }\n",
       "\n",
       "    .dataframe tbody tr th {\n",
       "        vertical-align: top;\n",
       "    }\n",
       "\n",
       "    .dataframe thead th {\n",
       "        text-align: right;\n",
       "    }\n",
       "</style>\n",
       "<table border=\"1\" class=\"dataframe\">\n",
       "  <thead>\n",
       "    <tr style=\"text-align: right;\">\n",
       "      <th></th>\n",
       "      <th>sentiment</th>\n",
       "      <th>rating</th>\n",
       "      <th>huggingface_autoTokenizer</th>\n",
       "      <th>huggingFace_Distilbert</th>\n",
       "      <th>top_words_lda</th>\n",
       "      <th>top_words_nmf</th>\n",
       "      <th>top_words_svd</th>\n",
       "      <th>common_topics</th>\n",
       "    </tr>\n",
       "  </thead>\n",
       "  <tbody>\n",
       "    <tr>\n",
       "      <th>2383</th>\n",
       "      <td>Moral issues aside, hasn't anyone noticed th...</td>\n",
       "      <td>2.0</td>\n",
       "      <td>Negative</td>\n",
       "      <td>2 stars</td>\n",
       "      <td>just, film, wasn</td>\n",
       "      <td>just, issues, wasn</td>\n",
       "      <td>just, film, character</td>\n",
       "      <td>just</td>\n",
       "    </tr>\n",
       "    <tr>\n",
       "      <th>2932</th>\n",
       "      <td>FATTY adapter. It works. (Will not work for ...</td>\n",
       "      <td>2.0</td>\n",
       "      <td>Neutral</td>\n",
       "      <td>3 stars</td>\n",
       "      <td>yes, height, mouse</td>\n",
       "      <td>adapter, usb, plug</td>\n",
       "      <td>plug, usb, adapter</td>\n",
       "      <td>adapter</td>\n",
       "    </tr>\n",
       "    <tr>\n",
       "      <th>1535</th>\n",
       "      <td>Throw away your old flashlights! I can't ima...</td>\n",
       "      <td>5.0</td>\n",
       "      <td>Positive</td>\n",
       "      <td>5 stars</td>\n",
       "      <td>wrote, version, brighter</td>\n",
       "      <td>flashlight, defective, future</td>\n",
       "      <td>flashlight, defective, wrote</td>\n",
       "      <td>flashlight</td>\n",
       "    </tr>\n",
       "    <tr>\n",
       "      <th>16</th>\n",
       "      <td>This could be a much better book I am curren...</td>\n",
       "      <td>2.0</td>\n",
       "      <td>Neutral</td>\n",
       "      <td>3 stars</td>\n",
       "      <td>ve, macrons, better</td>\n",
       "      <td>book, latin, using</td>\n",
       "      <td>book, latin, using</td>\n",
       "      <td>book</td>\n",
       "    </tr>\n",
       "    <tr>\n",
       "      <th>1213</th>\n",
       "      <td>Still functioning well after 6+ years This H...</td>\n",
       "      <td>4.0</td>\n",
       "      <td>Positive</td>\n",
       "      <td>4 stars</td>\n",
       "      <td>like, job, watching</td>\n",
       "      <td>monitor, years, desktop</td>\n",
       "      <td>monitor, 2005, computer</td>\n",
       "      <td>monitor</td>\n",
       "    </tr>\n",
       "    <tr>\n",
       "      <th>3197</th>\n",
       "      <td>What good is something that keeps breaking? ...</td>\n",
       "      <td>1.0</td>\n",
       "      <td>Negative</td>\n",
       "      <td>1 star</td>\n",
       "      <td>years, working, luck</td>\n",
       "      <td>bought, loud, pretty</td>\n",
       "      <td>bought, bad, filters</td>\n",
       "      <td>bought</td>\n",
       "    </tr>\n",
       "    <tr>\n",
       "      <th>1701</th>\n",
       "      <td>JAH JAH The best reggae cd ever made!! In my o...</td>\n",
       "      <td>5.0</td>\n",
       "      <td>Positive</td>\n",
       "      <td>5 stars</td>\n",
       "      <td>jah, cd, zion</td>\n",
       "      <td>cd, float, jah</td>\n",
       "      <td>jah, cd, 420</td>\n",
       "      <td>cd</td>\n",
       "    </tr>\n",
       "    <tr>\n",
       "      <th>92</th>\n",
       "      <td>This group stinks! Why won't they go away? I...</td>\n",
       "      <td>1.0</td>\n",
       "      <td>Neutral</td>\n",
       "      <td>1 star</td>\n",
       "      <td>won, dead, voices</td>\n",
       "      <td>backstreet, boys, ballads</td>\n",
       "      <td>backstreet, boys, just</td>\n",
       "      <td>backstreet</td>\n",
       "    </tr>\n",
       "    <tr>\n",
       "      <th>2063</th>\n",
       "      <td>Ok- An extra star because it looked nice on ...</td>\n",
       "      <td>2.0</td>\n",
       "      <td>Negative</td>\n",
       "      <td>2 stars</td>\n",
       "      <td>timer, ve, buzzer</td>\n",
       "      <td>timer, buzzer, ve</td>\n",
       "      <td>timer, ve, buzzer</td>\n",
       "      <td>timer</td>\n",
       "    </tr>\n",
       "    <tr>\n",
       "      <th>2561</th>\n",
       "      <td>First two chapters of Harpo Speaks. I absolute...</td>\n",
       "      <td>3.0</td>\n",
       "      <td>Negative</td>\n",
       "      <td>4 stars</td>\n",
       "      <td>book, harpo, speaks</td>\n",
       "      <td>book, harpo, speaks</td>\n",
       "      <td>book, harpo, speaks</td>\n",
       "      <td>book</td>\n",
       "    </tr>\n",
       "  </tbody>\n",
       "</table>\n",
       "</div>"
      ],
      "text/plain": [
       "                                              sentiment  rating  \\\n",
       "2383    Moral issues aside, hasn't anyone noticed th...     2.0   \n",
       "2932    FATTY adapter. It works. (Will not work for ...     2.0   \n",
       "1535    Throw away your old flashlights! I can't ima...     5.0   \n",
       "16      This could be a much better book I am curren...     2.0   \n",
       "1213    Still functioning well after 6+ years This H...     4.0   \n",
       "3197    What good is something that keeps breaking? ...     1.0   \n",
       "1701  JAH JAH The best reggae cd ever made!! In my o...     5.0   \n",
       "92      This group stinks! Why won't they go away? I...     1.0   \n",
       "2063    Ok- An extra star because it looked nice on ...     2.0   \n",
       "2561  First two chapters of Harpo Speaks. I absolute...     3.0   \n",
       "\n",
       "     huggingface_autoTokenizer huggingFace_Distilbert  \\\n",
       "2383                  Negative                2 stars   \n",
       "2932                   Neutral                3 stars   \n",
       "1535                  Positive                5 stars   \n",
       "16                     Neutral                3 stars   \n",
       "1213                  Positive                4 stars   \n",
       "3197                  Negative                 1 star   \n",
       "1701                  Positive                5 stars   \n",
       "92                     Neutral                 1 star   \n",
       "2063                  Negative                2 stars   \n",
       "2561                  Negative                4 stars   \n",
       "\n",
       "                 top_words_lda                  top_words_nmf  \\\n",
       "2383          just, film, wasn             just, issues, wasn   \n",
       "2932        yes, height, mouse             adapter, usb, plug   \n",
       "1535  wrote, version, brighter  flashlight, defective, future   \n",
       "16         ve, macrons, better             book, latin, using   \n",
       "1213       like, job, watching        monitor, years, desktop   \n",
       "3197      years, working, luck           bought, loud, pretty   \n",
       "1701             jah, cd, zion                 cd, float, jah   \n",
       "92           won, dead, voices      backstreet, boys, ballads   \n",
       "2063         timer, ve, buzzer              timer, buzzer, ve   \n",
       "2561       book, harpo, speaks            book, harpo, speaks   \n",
       "\n",
       "                     top_words_svd common_topics  \n",
       "2383         just, film, character          just  \n",
       "2932            plug, usb, adapter       adapter  \n",
       "1535  flashlight, defective, wrote    flashlight  \n",
       "16              book, latin, using          book  \n",
       "1213       monitor, 2005, computer       monitor  \n",
       "3197          bought, bad, filters        bought  \n",
       "1701                  jah, cd, 420            cd  \n",
       "92          backstreet, boys, just    backstreet  \n",
       "2063             timer, ve, buzzer         timer  \n",
       "2561           book, harpo, speaks          book  "
      ]
     },
     "execution_count": 7,
     "metadata": {},
     "output_type": "execute_result"
    }
   ],
   "source": [
    "from app_scripts.topic_modelling import plot_interactive_ratings\n",
    "\n",
    "plot_interactive_ratings(data)\n",
    "\n",
    "data.sample(10)"
   ]
  },
  {
   "cell_type": "code",
   "execution_count": 8,
   "metadata": {},
   "outputs": [],
   "source": [
    "# - Interactively show what each point is mainly about. A scatter plot would be perfect to individually pick each point.\n",
    "import plotly.graph_objects as go\n",
    "\n",
    "def plot_interactive_ratings(data):\n",
    "    max_ratings_by_topic = data[data.common_topics.isin(data.common_topics.value_counts()[data.common_topics.value_counts() > 10].index)].groupby('common_topics')['rating'].mean().reset_index()\n",
    "    \n",
    "    # Create a scatter plot\n",
    "    fig = go.Figure(data=go.Scatter(\n",
    "        x=max_ratings_by_topic['rating'],  # Use the ratings as x-values\n",
    "        y=max_ratings_by_topic['common_topics'],  # Use the common_topics as y-values\n",
    "        mode='markers',  # Set the mode to markers for a scatter plot\n",
    "        marker=dict(\n",
    "            color=max_ratings_by_topic['rating'],  # Color the markers based on the ratings\n",
    "            # colorscale='turbo',  # Choose a color scale\n",
    "            # colorbar=dict(title='Ratings'),  # Add a color bar with a title\n",
    "            size=10  # Set the marker size\n",
    "        )\n",
    "    ))\n",
    "    \n",
    "    # Customize the layout\n",
    "    fig.update_layout(\n",
    "        title='Common Topics and Average Ratings',  # Add a title\n",
    "        xaxis_title='Ratings',  # Label the x-axis\n",
    "        yaxis_title='Common Topics',  # Label the y-axis\n",
    "        font=dict(size=10),  # Set the font size\n",
    "        height=1000,  # Set the height of the plot\n",
    "    )\n",
    "\n",
    "    fig.update_yaxes(automargin=True)\n",
    "    \n",
    "    # Show the interactive scatter plot\n",
    "    fig.show()\n",
    "\n",
    "# plot_interactive_ratings(data)"
   ]
  },
  {
   "cell_type": "code",
   "execution_count": 14,
   "metadata": {},
   "outputs": [
    {
     "name": "stdout",
     "output_type": "stream",
     "text": [
      "shape: (3649999, 6)\n",
      "Null values: column_0    2999999\n",
      "column_1    3000025\n",
      "column_2    2999999\n",
      "column_3     649999\n",
      "column_4     650187\n",
      "column_5     649999\n",
      "dtype: int64\n",
      "\n",
      "shape: (3649999, 6)\n",
      "Null values: column_0    2999999\n",
      "column_1    3000025\n",
      "column_2    2999999\n",
      "column_3     649999\n",
      "column_4     650187\n",
      "column_5     649999\n",
      "dtype: int64\n",
      "\n"
     ]
    },
    {
     "data": {
      "text/html": [
       "<div>\n",
       "<style scoped>\n",
       "    .dataframe tbody tr th:only-of-type {\n",
       "        vertical-align: middle;\n",
       "    }\n",
       "\n",
       "    .dataframe tbody tr th {\n",
       "        vertical-align: top;\n",
       "    }\n",
       "\n",
       "    .dataframe thead th {\n",
       "        text-align: right;\n",
       "    }\n",
       "</style>\n",
       "<table border=\"1\" class=\"dataframe\">\n",
       "  <thead>\n",
       "    <tr style=\"text-align: right;\">\n",
       "      <th></th>\n",
       "      <th>sentiment</th>\n",
       "      <th>rating</th>\n",
       "      <th>column_0</th>\n",
       "      <th>column_1</th>\n",
       "      <th>column_2</th>\n",
       "      <th>column_3</th>\n",
       "      <th>column_4</th>\n",
       "      <th>column_5</th>\n",
       "    </tr>\n",
       "  </thead>\n",
       "  <tbody>\n",
       "    <tr>\n",
       "      <th>0</th>\n",
       "      <td>A New Look-insightful and helpful Quite a diff...</td>\n",
       "      <td>4.0</td>\n",
       "      <td>NaN</td>\n",
       "      <td>NaN</td>\n",
       "      <td>NaN</td>\n",
       "      <td>NaN</td>\n",
       "      <td>NaN</td>\n",
       "      <td>NaN</td>\n",
       "    </tr>\n",
       "    <tr>\n",
       "      <th>1</th>\n",
       "      <td>poor quality and function This product perfo...</td>\n",
       "      <td>1.0</td>\n",
       "      <td>NaN</td>\n",
       "      <td>NaN</td>\n",
       "      <td>NaN</td>\n",
       "      <td>NaN</td>\n",
       "      <td>NaN</td>\n",
       "      <td>NaN</td>\n",
       "    </tr>\n",
       "    <tr>\n",
       "      <th>2</th>\n",
       "      <td>Big let down I sure was let down by this one...</td>\n",
       "      <td>3.0</td>\n",
       "      <td>NaN</td>\n",
       "      <td>NaN</td>\n",
       "      <td>NaN</td>\n",
       "      <td>NaN</td>\n",
       "      <td>NaN</td>\n",
       "      <td>NaN</td>\n",
       "    </tr>\n",
       "    <tr>\n",
       "      <th>3</th>\n",
       "      <td>Waste Of Film This is a waste of film , time...</td>\n",
       "      <td>1.0</td>\n",
       "      <td>NaN</td>\n",
       "      <td>NaN</td>\n",
       "      <td>NaN</td>\n",
       "      <td>NaN</td>\n",
       "      <td>NaN</td>\n",
       "      <td>NaN</td>\n",
       "    </tr>\n",
       "    <tr>\n",
       "      <th>4</th>\n",
       "      <td>Inaccurate--unacceptable I gave these 1 star...</td>\n",
       "      <td>1.0</td>\n",
       "      <td>NaN</td>\n",
       "      <td>NaN</td>\n",
       "      <td>NaN</td>\n",
       "      <td>NaN</td>\n",
       "      <td>NaN</td>\n",
       "      <td>NaN</td>\n",
       "    </tr>\n",
       "    <tr>\n",
       "      <th>...</th>\n",
       "      <td>...</td>\n",
       "      <td>...</td>\n",
       "      <td>...</td>\n",
       "      <td>...</td>\n",
       "      <td>...</td>\n",
       "      <td>...</td>\n",
       "      <td>...</td>\n",
       "      <td>...</td>\n",
       "    </tr>\n",
       "    <tr>\n",
       "      <th>3679194</th>\n",
       "      <td>NaN</td>\n",
       "      <td>NaN</td>\n",
       "      <td>NaN</td>\n",
       "      <td>NaN</td>\n",
       "      <td>NaN</td>\n",
       "      <td>1.0</td>\n",
       "      <td>Don't do it!!</td>\n",
       "      <td>The high chair looks great when it first comes...</td>\n",
       "    </tr>\n",
       "    <tr>\n",
       "      <th>3679195</th>\n",
       "      <td>NaN</td>\n",
       "      <td>NaN</td>\n",
       "      <td>NaN</td>\n",
       "      <td>NaN</td>\n",
       "      <td>NaN</td>\n",
       "      <td>2.0</td>\n",
       "      <td>Looks nice, low functionality</td>\n",
       "      <td>I have used this highchair for 2 kids now and ...</td>\n",
       "    </tr>\n",
       "    <tr>\n",
       "      <th>3679196</th>\n",
       "      <td>NaN</td>\n",
       "      <td>NaN</td>\n",
       "      <td>NaN</td>\n",
       "      <td>NaN</td>\n",
       "      <td>NaN</td>\n",
       "      <td>2.0</td>\n",
       "      <td>compact, but hard to clean</td>\n",
       "      <td>We have a small house, and really wanted two o...</td>\n",
       "    </tr>\n",
       "    <tr>\n",
       "      <th>3679197</th>\n",
       "      <td>NaN</td>\n",
       "      <td>NaN</td>\n",
       "      <td>NaN</td>\n",
       "      <td>NaN</td>\n",
       "      <td>NaN</td>\n",
       "      <td>3.0</td>\n",
       "      <td>Hard to clean!</td>\n",
       "      <td>I agree with everyone else who says this chair...</td>\n",
       "    </tr>\n",
       "    <tr>\n",
       "      <th>3679198</th>\n",
       "      <td>NaN</td>\n",
       "      <td>NaN</td>\n",
       "      <td>NaN</td>\n",
       "      <td>NaN</td>\n",
       "      <td>NaN</td>\n",
       "      <td>1.0</td>\n",
       "      <td>what is it saying?</td>\n",
       "      <td>not sure what this book is supposed to be. It ...</td>\n",
       "    </tr>\n",
       "  </tbody>\n",
       "</table>\n",
       "<p>3679199 rows × 8 columns</p>\n",
       "</div>"
      ],
      "text/plain": [
       "                                                 sentiment  rating  column_0  \\\n",
       "0        A New Look-insightful and helpful Quite a diff...     4.0       NaN   \n",
       "1          poor quality and function This product perfo...     1.0       NaN   \n",
       "2          Big let down I sure was let down by this one...     3.0       NaN   \n",
       "3          Waste Of Film This is a waste of film , time...     1.0       NaN   \n",
       "4          Inaccurate--unacceptable I gave these 1 star...     1.0       NaN   \n",
       "...                                                    ...     ...       ...   \n",
       "3679194                                                NaN     NaN       NaN   \n",
       "3679195                                                NaN     NaN       NaN   \n",
       "3679196                                                NaN     NaN       NaN   \n",
       "3679197                                                NaN     NaN       NaN   \n",
       "3679198                                                NaN     NaN       NaN   \n",
       "\n",
       "        column_1 column_2  column_3                       column_4  \\\n",
       "0            NaN      NaN       NaN                            NaN   \n",
       "1            NaN      NaN       NaN                            NaN   \n",
       "2            NaN      NaN       NaN                            NaN   \n",
       "3            NaN      NaN       NaN                            NaN   \n",
       "4            NaN      NaN       NaN                            NaN   \n",
       "...          ...      ...       ...                            ...   \n",
       "3679194      NaN      NaN       1.0                  Don't do it!!   \n",
       "3679195      NaN      NaN       2.0  Looks nice, low functionality   \n",
       "3679196      NaN      NaN       2.0     compact, but hard to clean   \n",
       "3679197      NaN      NaN       3.0                 Hard to clean!   \n",
       "3679198      NaN      NaN       1.0             what is it saying?   \n",
       "\n",
       "                                                  column_5  \n",
       "0                                                      NaN  \n",
       "1                                                      NaN  \n",
       "2                                                      NaN  \n",
       "3                                                      NaN  \n",
       "4                                                      NaN  \n",
       "...                                                    ...  \n",
       "3679194  The high chair looks great when it first comes...  \n",
       "3679195  I have used this highchair for 2 kids now and ...  \n",
       "3679196  We have a small house, and really wanted two o...  \n",
       "3679197  I agree with everyone else who says this chair...  \n",
       "3679198  not sure what this book is supposed to be. It ...  \n",
       "\n",
       "[3679199 rows x 8 columns]"
      ]
     },
     "metadata": {},
     "output_type": "display_data"
    },
    {
     "data": {
      "text/plain": [
       "(3679199, 8)"
      ]
     },
     "metadata": {},
     "output_type": "display_data"
    },
    {
     "ename": "KeyboardInterrupt",
     "evalue": "",
     "output_type": "error",
     "traceback": [
      "\u001b[0;31m---------------------------------------------------------------------------\u001b[0m",
      "\u001b[0;31mKeyboardInterrupt\u001b[0m                         Traceback (most recent call last)",
      "File \u001b[0;32m~/Documents/Python Projects/Practice/app_scripts/model.py:32\u001b[0m, in \u001b[0;36mhuggingface_autoTokenizer\u001b[0;34m(data, batch_size)\u001b[0m\n\u001b[1;32m     31\u001b[0m end \u001b[39m=\u001b[39m \u001b[39mmin\u001b[39m(start \u001b[39m+\u001b[39m batch_size, num_samples) \u001b[39m# get the end of the batch\u001b[39;00m\n\u001b[0;32m---> 32\u001b[0m batch \u001b[39m=\u001b[39m data[\u001b[39m'\u001b[39;49m\u001b[39msentiment\u001b[39;49m\u001b[39m'\u001b[39;49m]\u001b[39m.\u001b[39;49miloc[start:end]\u001b[39m.\u001b[39mtolist() \u001b[39m# get the batch\u001b[39;00m\n\u001b[1;32m     33\u001b[0m futures\u001b[39m.\u001b[39mappend(executor\u001b[39m.\u001b[39msubmit(classifier, batch)) \u001b[39m# submit the batch to the classifier\u001b[39;00m\n",
      "File \u001b[0;32m~/.pyenv/versions/3.10.12/lib/python3.10/site-packages/pandas/core/indexing.py:1153\u001b[0m, in \u001b[0;36m_LocationIndexer.__getitem__\u001b[0;34m(self, key)\u001b[0m\n\u001b[1;32m   1152\u001b[0m maybe_callable \u001b[39m=\u001b[39m com\u001b[39m.\u001b[39mapply_if_callable(key, \u001b[39mself\u001b[39m\u001b[39m.\u001b[39mobj)\n\u001b[0;32m-> 1153\u001b[0m \u001b[39mreturn\u001b[39;00m \u001b[39mself\u001b[39;49m\u001b[39m.\u001b[39;49m_getitem_axis(maybe_callable, axis\u001b[39m=\u001b[39;49maxis)\n",
      "File \u001b[0;32m~/.pyenv/versions/3.10.12/lib/python3.10/site-packages/pandas/core/indexing.py:1691\u001b[0m, in \u001b[0;36m_iLocIndexer._getitem_axis\u001b[0;34m(self, key, axis)\u001b[0m\n\u001b[1;32m   1690\u001b[0m \u001b[39mif\u001b[39;00m \u001b[39misinstance\u001b[39m(key, \u001b[39mslice\u001b[39m):\n\u001b[0;32m-> 1691\u001b[0m     \u001b[39mreturn\u001b[39;00m \u001b[39mself\u001b[39;49m\u001b[39m.\u001b[39;49m_get_slice_axis(key, axis\u001b[39m=\u001b[39;49maxis)\n\u001b[1;32m   1693\u001b[0m \u001b[39mif\u001b[39;00m is_iterator(key):\n",
      "File \u001b[0;32m~/.pyenv/versions/3.10.12/lib/python3.10/site-packages/pandas/core/indexing.py:1727\u001b[0m, in \u001b[0;36m_iLocIndexer._get_slice_axis\u001b[0;34m(self, slice_obj, axis)\u001b[0m\n\u001b[1;32m   1726\u001b[0m labels\u001b[39m.\u001b[39m_validate_positional_slice(slice_obj)\n\u001b[0;32m-> 1727\u001b[0m \u001b[39mreturn\u001b[39;00m \u001b[39mself\u001b[39;49m\u001b[39m.\u001b[39;49mobj\u001b[39m.\u001b[39;49m_slice(slice_obj, axis\u001b[39m=\u001b[39;49maxis)\n",
      "File \u001b[0;32m~/.pyenv/versions/3.10.12/lib/python3.10/site-packages/pandas/core/series.py:1012\u001b[0m, in \u001b[0;36mSeries._slice\u001b[0;34m(self, slobj, axis)\u001b[0m\n\u001b[1;32m   1009\u001b[0m \u001b[39mdef\u001b[39;00m \u001b[39m_slice\u001b[39m(\u001b[39mself\u001b[39m, slobj: \u001b[39mslice\u001b[39m, axis: AxisInt \u001b[39m=\u001b[39m \u001b[39m0\u001b[39m) \u001b[39m-\u001b[39m\u001b[39m>\u001b[39m Series:\n\u001b[1;32m   1010\u001b[0m     \u001b[39m# axis kwarg is retained for compat with NDFrame method\u001b[39;00m\n\u001b[1;32m   1011\u001b[0m     \u001b[39m#  _slice is *always* positional\u001b[39;00m\n\u001b[0;32m-> 1012\u001b[0m     mgr \u001b[39m=\u001b[39m \u001b[39mself\u001b[39;49m\u001b[39m.\u001b[39;49m_mgr\u001b[39m.\u001b[39;49mget_slice(slobj, axis\u001b[39m=\u001b[39;49maxis)\n\u001b[1;32m   1013\u001b[0m     out \u001b[39m=\u001b[39m \u001b[39mself\u001b[39m\u001b[39m.\u001b[39m_constructor(mgr, fastpath\u001b[39m=\u001b[39m\u001b[39mTrue\u001b[39;00m)\n",
      "File \u001b[0;32m~/.pyenv/versions/3.10.12/lib/python3.10/site-packages/pandas/core/internals/managers.py:1942\u001b[0m, in \u001b[0;36mSingleBlockManager.get_slice\u001b[0;34m(self, slobj, axis)\u001b[0m\n\u001b[1;32m   1941\u001b[0m block \u001b[39m=\u001b[39m \u001b[39mtype\u001b[39m(blk)(array, placement\u001b[39m=\u001b[39mbp, ndim\u001b[39m=\u001b[39m\u001b[39m1\u001b[39m, refs\u001b[39m=\u001b[39mblk\u001b[39m.\u001b[39mrefs)\n\u001b[0;32m-> 1942\u001b[0m new_index \u001b[39m=\u001b[39m \u001b[39mself\u001b[39;49m\u001b[39m.\u001b[39;49mindex\u001b[39m.\u001b[39;49m_getitem_slice(slobj)\n\u001b[1;32m   1943\u001b[0m \u001b[39mreturn\u001b[39;00m \u001b[39mtype\u001b[39m(\u001b[39mself\u001b[39m)(block, new_index)\n",
      "File \u001b[0;32m~/.pyenv/versions/3.10.12/lib/python3.10/site-packages/pandas/core/indexes/range.py:1001\u001b[0m, in \u001b[0;36mRangeIndex._getitem_slice\u001b[0;34m(self, slobj)\u001b[0m\n\u001b[1;32m   1000\u001b[0m res \u001b[39m=\u001b[39m \u001b[39mself\u001b[39m\u001b[39m.\u001b[39m_range[slobj]\n\u001b[0;32m-> 1001\u001b[0m \u001b[39mreturn\u001b[39;00m \u001b[39mtype\u001b[39;49m(\u001b[39mself\u001b[39;49m)\u001b[39m.\u001b[39;49m_simple_new(res, name\u001b[39m=\u001b[39;49m\u001b[39mself\u001b[39;49m\u001b[39m.\u001b[39;49m_name)\n",
      "File \u001b[0;32m~/.pyenv/versions/3.10.12/lib/python3.10/site-packages/pandas/core/indexes/range.py:202\u001b[0m, in \u001b[0;36mRangeIndex._simple_new\u001b[0;34m(cls, values, name)\u001b[0m\n\u001b[1;32m    198\u001b[0m \u001b[39m@classmethod\u001b[39m\n\u001b[1;32m    199\u001b[0m \u001b[39mdef\u001b[39;00m \u001b[39m_simple_new\u001b[39m(  \u001b[39m# type: ignore[override]\u001b[39;00m\n\u001b[1;32m    200\u001b[0m     \u001b[39mcls\u001b[39m, values: \u001b[39mrange\u001b[39m, name: Hashable \u001b[39m|\u001b[39m \u001b[39mNone\u001b[39;00m \u001b[39m=\u001b[39m \u001b[39mNone\u001b[39;00m\n\u001b[1;32m    201\u001b[0m ) \u001b[39m-\u001b[39m\u001b[39m>\u001b[39m Self:\n\u001b[0;32m--> 202\u001b[0m     result \u001b[39m=\u001b[39m \u001b[39mobject\u001b[39;49m\u001b[39m.\u001b[39;49m\u001b[39m__new__\u001b[39;49m(\u001b[39mcls\u001b[39;49m)\n\u001b[1;32m    204\u001b[0m     \u001b[39massert\u001b[39;00m \u001b[39misinstance\u001b[39m(values, \u001b[39mrange\u001b[39m)\n",
      "\u001b[0;31mKeyboardInterrupt\u001b[0m: ",
      "\nDuring handling of the above exception, another exception occurred:\n",
      "\u001b[0;31mKeyboardInterrupt\u001b[0m                         Traceback (most recent call last)",
      "\u001b[1;32m/Users/iffiness/Documents/Python Projects/Practice/SentimentAnalysis.ipynb Cell 13\u001b[0m line \u001b[0;36m4\n\u001b[1;32m     <a href='vscode-notebook-cell:/Users/iffiness/Documents/Python%20Projects/Practice/SentimentAnalysis.ipynb#X33sZmlsZQ%3D%3D?line=37'>38</a>\u001b[0m     data \u001b[39m=\u001b[39m huggingFace_Distilbert(data)\n\u001b[1;32m     <a href='vscode-notebook-cell:/Users/iffiness/Documents/Python%20Projects/Practice/SentimentAnalysis.ipynb#X33sZmlsZQ%3D%3D?line=39'>40</a>\u001b[0m     \u001b[39mreturn\u001b[39;00m data\n\u001b[0;32m---> <a href='vscode-notebook-cell:/Users/iffiness/Documents/Python%20Projects/Practice/SentimentAnalysis.ipynb#X33sZmlsZQ%3D%3D?line=41'>42</a>\u001b[0m get_data()\n\u001b[1;32m     <a href='vscode-notebook-cell:/Users/iffiness/Documents/Python%20Projects/Practice/SentimentAnalysis.ipynb#X33sZmlsZQ%3D%3D?line=43'>44</a>\u001b[0m st\u001b[39m.\u001b[39mwrite(data\u001b[39m.\u001b[39msample(\u001b[39m4\u001b[39m))\n\u001b[1;32m     <a href='vscode-notebook-cell:/Users/iffiness/Documents/Python%20Projects/Practice/SentimentAnalysis.ipynb#X33sZmlsZQ%3D%3D?line=45'>46</a>\u001b[0m data \u001b[39m=\u001b[39m get_topics(data)\n",
      "\u001b[1;32m/Users/iffiness/Documents/Python Projects/Practice/SentimentAnalysis.ipynb Cell 13\u001b[0m line \u001b[0;36m3\n\u001b[1;32m     <a href='vscode-notebook-cell:/Users/iffiness/Documents/Python%20Projects/Practice/SentimentAnalysis.ipynb#X33sZmlsZQ%3D%3D?line=32'>33</a>\u001b[0m display(data, data\u001b[39m.\u001b[39mshape)\n\u001b[1;32m     <a href='vscode-notebook-cell:/Users/iffiness/Documents/Python%20Projects/Practice/SentimentAnalysis.ipynb#X33sZmlsZQ%3D%3D?line=34'>35</a>\u001b[0m \u001b[39m# data = get_sentiment(data)\u001b[39;00m\n\u001b[0;32m---> <a href='vscode-notebook-cell:/Users/iffiness/Documents/Python%20Projects/Practice/SentimentAnalysis.ipynb#X33sZmlsZQ%3D%3D?line=36'>37</a>\u001b[0m data \u001b[39m=\u001b[39m huggingface_autoTokenizer(data)\n\u001b[1;32m     <a href='vscode-notebook-cell:/Users/iffiness/Documents/Python%20Projects/Practice/SentimentAnalysis.ipynb#X33sZmlsZQ%3D%3D?line=37'>38</a>\u001b[0m data \u001b[39m=\u001b[39m huggingFace_Distilbert(data)\n\u001b[1;32m     <a href='vscode-notebook-cell:/Users/iffiness/Documents/Python%20Projects/Practice/SentimentAnalysis.ipynb#X33sZmlsZQ%3D%3D?line=39'>40</a>\u001b[0m \u001b[39mreturn\u001b[39;00m data\n",
      "File \u001b[0;32m~/Documents/Python Projects/Practice/app_scripts/model.py:27\u001b[0m, in \u001b[0;36mhuggingface_autoTokenizer\u001b[0;34m(data, batch_size)\u001b[0m\n\u001b[1;32m     24\u001b[0m batched_outputs \u001b[39m=\u001b[39m []\n\u001b[1;32m     25\u001b[0m num_samples \u001b[39m=\u001b[39m \u001b[39mlen\u001b[39m(data)\n\u001b[0;32m---> 27\u001b[0m \u001b[39mwith\u001b[39;00m concurrent\u001b[39m.\u001b[39mfutures\u001b[39m.\u001b[39mThreadPoolExecutor(max_workers\u001b[39m=\u001b[39m\u001b[39m5\u001b[39m) \u001b[39mas\u001b[39;00m executor:\n\u001b[1;32m     28\u001b[0m   futures \u001b[39m=\u001b[39m []\n\u001b[1;32m     30\u001b[0m   \u001b[39mfor\u001b[39;00m start \u001b[39min\u001b[39;00m \u001b[39mrange\u001b[39m(\u001b[39m0\u001b[39m, num_samples, batch_size): \u001b[39m# iterate over the data in batches of 32\u001b[39;00m\n",
      "File \u001b[0;32m~/.pyenv/versions/3.10.12/lib/python3.10/concurrent/futures/_base.py:649\u001b[0m, in \u001b[0;36mExecutor.__exit__\u001b[0;34m(self, exc_type, exc_val, exc_tb)\u001b[0m\n\u001b[1;32m    648\u001b[0m \u001b[39mdef\u001b[39;00m \u001b[39m__exit__\u001b[39m(\u001b[39mself\u001b[39m, exc_type, exc_val, exc_tb):\n\u001b[0;32m--> 649\u001b[0m     \u001b[39mself\u001b[39;49m\u001b[39m.\u001b[39;49mshutdown(wait\u001b[39m=\u001b[39;49m\u001b[39mTrue\u001b[39;49;00m)\n\u001b[1;32m    650\u001b[0m     \u001b[39mreturn\u001b[39;00m \u001b[39mFalse\u001b[39;00m\n",
      "File \u001b[0;32m~/.pyenv/versions/3.10.12/lib/python3.10/concurrent/futures/thread.py:235\u001b[0m, in \u001b[0;36mThreadPoolExecutor.shutdown\u001b[0;34m(self, wait, cancel_futures)\u001b[0m\n\u001b[1;32m    233\u001b[0m \u001b[39mif\u001b[39;00m wait:\n\u001b[1;32m    234\u001b[0m     \u001b[39mfor\u001b[39;00m t \u001b[39min\u001b[39;00m \u001b[39mself\u001b[39m\u001b[39m.\u001b[39m_threads:\n\u001b[0;32m--> 235\u001b[0m         t\u001b[39m.\u001b[39;49mjoin()\n",
      "File \u001b[0;32m~/.pyenv/versions/3.10.12/lib/python3.10/threading.py:1096\u001b[0m, in \u001b[0;36mThread.join\u001b[0;34m(self, timeout)\u001b[0m\n\u001b[1;32m   1093\u001b[0m     \u001b[39mraise\u001b[39;00m \u001b[39mRuntimeError\u001b[39;00m(\u001b[39m\"\u001b[39m\u001b[39mcannot join current thread\u001b[39m\u001b[39m\"\u001b[39m)\n\u001b[1;32m   1095\u001b[0m \u001b[39mif\u001b[39;00m timeout \u001b[39mis\u001b[39;00m \u001b[39mNone\u001b[39;00m:\n\u001b[0;32m-> 1096\u001b[0m     \u001b[39mself\u001b[39;49m\u001b[39m.\u001b[39;49m_wait_for_tstate_lock()\n\u001b[1;32m   1097\u001b[0m \u001b[39melse\u001b[39;00m:\n\u001b[1;32m   1098\u001b[0m     \u001b[39m# the behavior of a negative timeout isn't documented, but\u001b[39;00m\n\u001b[1;32m   1099\u001b[0m     \u001b[39m# historically .join(timeout=x) for x<0 has acted as if timeout=0\u001b[39;00m\n\u001b[1;32m   1100\u001b[0m     \u001b[39mself\u001b[39m\u001b[39m.\u001b[39m_wait_for_tstate_lock(timeout\u001b[39m=\u001b[39m\u001b[39mmax\u001b[39m(timeout, \u001b[39m0\u001b[39m))\n",
      "File \u001b[0;32m~/.pyenv/versions/3.10.12/lib/python3.10/threading.py:1116\u001b[0m, in \u001b[0;36mThread._wait_for_tstate_lock\u001b[0;34m(self, block, timeout)\u001b[0m\n\u001b[1;32m   1113\u001b[0m     \u001b[39mreturn\u001b[39;00m\n\u001b[1;32m   1115\u001b[0m \u001b[39mtry\u001b[39;00m:\n\u001b[0;32m-> 1116\u001b[0m     \u001b[39mif\u001b[39;00m lock\u001b[39m.\u001b[39;49macquire(block, timeout):\n\u001b[1;32m   1117\u001b[0m         lock\u001b[39m.\u001b[39mrelease()\n\u001b[1;32m   1118\u001b[0m         \u001b[39mself\u001b[39m\u001b[39m.\u001b[39m_stop()\n",
      "\u001b[0;31mKeyboardInterrupt\u001b[0m: "
     ]
    }
   ],
   "source": [
    "import streamlit as st\n",
    "\n",
    "from app_scripts.load_preprocess_data import load_data, preprocess_data, get_sentiment, plot_ratings\n",
    "from app_scripts.model import huggingface_autoTokenizer, huggingFace_Distilbert\n",
    "from app_scripts.topic_modelling import get_topics, get_common_topics , plot_topic_repetitions, plot_topic_vs_ratings, plot_interactive_ratings\n",
    "\n",
    "st.title('Sentiment Analysis of Amazon Reviews')\n",
    "st.write('This app analyzes the sentiment of Amazon reviews')\n",
    "\n",
    "st.write('The data used in this app is from the [Amazon Review Data (2018)](https://nijianmo.github.io/amazon/index.html) by Jianmo Ni, UCSD')\n",
    "\n",
    "st.write('The model used in this app is the [DistilBERT](https://huggingface.co/distilbert-base-uncased-finetuned-sst-2-english) model by Hugging Face')\n",
    "st.write('The model used in this app is the [AutoTokenizer](https://huggingface.co/transformers/model_doc/auto.html) model by Hugging Face')\n",
    "\n",
    "st.write('The topic modelling used in this app is the [Latent Dirichlet Allocation (LDA)](https://en.wikipedia.org/wiki/Latent_Dirichlet_allocation) model by David M. Blei, Andrew Y. Ng, Michael I. Jordan')\n",
    "st.write('The topic modelling used in this app is the [Non-negative Matrix Factorization (NMF)](https://en.wikipedia.org/wiki/Non-negative_matrix_factorization) model by Daniel D. Lee, H. Sebastian Seung')\n",
    "st.write('The topic modelling used is the [Truncated Singular Value Decomposition (SVD)](https://en.wikipedia.org/wiki/Singular_value_decomposition) model by Paul G. Constantine, David F. Gleich, Paul W. Mahoney')\n",
    "\n",
    "# st.write('The interactive plots used in this app is created using [Plotly](https://plotly.com/python/) library')\n",
    "\n",
    "inputText, inputRatings = st.text_input('Enter a review'), st.slider('Enter a rating', 1, 5)\n",
    "if inputText and inputRatings:\n",
    "    st.write(f'The review you entered is \"{inputText}\" and the rating you entered is {inputRatings}')\n",
    "\n",
    "# @st.cache_data\n",
    "def get_data():\n",
    "    data1 = load_data()\n",
    "    data1 = get_sentiment(data1.sample(frac=.008).reset_index(drop=True))\n",
    "\n",
    "    data2 = load_data(inputText=inputText, inputRating=inputRatings)\n",
    "\n",
    "    # Join data1 and data2\n",
    "    data = pd.concat([data1, data2], axis=0).reset_index(drop=True)\n",
    "    display(data, data.shape)\n",
    "\n",
    "    # data = get_sentiment(data)\n",
    "\n",
    "    data = huggingface_autoTokenizer(data)\n",
    "    data = huggingFace_Distilbert(data)\n",
    "    \n",
    "    return data\n",
    "\n",
    "if st.button('Analyze'):\n",
    "    data = get_data()\n",
    "    data = get_topics(data)\n",
    "    data = get_common_topics(data)\n",
    "\n",
    "    plot_topic_repetitions(data)\n",
    "    plot_topic_vs_ratings(data)\n",
    "    plot_interactive_ratings(data)\n",
    "\n",
    "    st.write(data.sample(4))\n"
   ]
  },
  {
   "cell_type": "code",
   "execution_count": null,
   "metadata": {},
   "outputs": [],
   "source": []
  }
 ],
 "metadata": {
  "kernelspec": {
   "display_name": "Python 3",
   "language": "python",
   "name": "python3"
  },
  "language_info": {
   "codemirror_mode": {
    "name": "ipython",
    "version": 3
   },
   "file_extension": ".py",
   "mimetype": "text/x-python",
   "name": "python",
   "nbconvert_exporter": "python",
   "pygments_lexer": "ipython3",
   "version": "3.10.12"
  }
 },
 "nbformat": 4,
 "nbformat_minor": 2
}
